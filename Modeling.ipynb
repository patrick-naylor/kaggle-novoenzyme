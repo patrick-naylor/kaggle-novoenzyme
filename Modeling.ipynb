{
 "cells": [
  {
   "cell_type": "code",
   "execution_count": 1,
   "id": "2a3b0211",
   "metadata": {},
   "outputs": [],
   "source": [
    "import numpy as np\n",
    "import pandas as pd\n",
    "from sklearn.model_selection import train_test_split\n",
    "from sklearn.linear_model import Ridge\n",
    "from scipy.stats import spearmanr\n",
    "from sklearn.svm import SVR\n",
    "from sklearn.ensemble import AdaBoostRegressor"
   ]
  },
  {
   "cell_type": "code",
   "execution_count": 2,
   "id": "956f9eba",
   "metadata": {},
   "outputs": [],
   "source": [
    "df = pd.read_csv('/Users/patricknaylor/Desktop/kaggle/kaggle-NOVO/data/selected_vars_1.csv')\n",
    "target = pd.read_csv('/Users/patricknaylor/Desktop/kaggle/kaggle-NOVO/data/target.csv')\n",
    "X = np.array(df)[:,1:]\n",
    "y = np.array(target)[:, 1]\n"
   ]
  },
  {
   "cell_type": "code",
   "execution_count": 3,
   "id": "d32a6afe",
   "metadata": {},
   "outputs": [],
   "source": [
    "X_train, X_test, y_train, y_test = train_test_split(X, y, test_size=.25)\n"
   ]
  },
  {
   "cell_type": "code",
   "execution_count": 4,
   "id": "ca6d18bc",
   "metadata": {},
   "outputs": [
    {
     "name": "stdout",
     "output_type": "stream",
     "text": [
      "SpearmanrResult(correlation=0.3016279637705642, pvalue=0.0)\n",
      "SpearmanrResult(correlation=0.3003491476104281, pvalue=8.378628111223276e-151)\n"
     ]
    }
   ],
   "source": [
    "\n",
    "rid = SVR(kernel='linear')\n",
    "regr = AdaBoostRegressor(rid, n_estimators=5)\n",
    "regr.fit(X_train, y_train)\n",
    "train_pred = regr.predict(X_train)\n",
    "test_pred = regr.predict(X_test)\n",
    "print(spearmanr(train_pred, y_train))\n",
    "print(spearmanr(test_pred, y_test))"
   ]
  },
  {
   "cell_type": "code",
   "execution_count": null,
   "id": "48184965",
   "metadata": {},
   "outputs": [],
   "source": []
  }
 ],
 "metadata": {
  "kernelspec": {
   "display_name": "Python 3 (ipykernel)",
   "language": "python",
   "name": "python3"
  },
  "language_info": {
   "codemirror_mode": {
    "name": "ipython",
    "version": 3
   },
   "file_extension": ".py",
   "mimetype": "text/x-python",
   "name": "python",
   "nbconvert_exporter": "python",
   "pygments_lexer": "ipython3",
   "version": "3.10.6"
  }
 },
 "nbformat": 4,
 "nbformat_minor": 5
}
