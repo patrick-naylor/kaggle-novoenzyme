{
 "cells": [
  {
   "cell_type": "code",
   "execution_count": 199,
   "id": "150ec8a0",
   "metadata": {},
   "outputs": [],
   "source": [
    "import numpy as np\n",
    "import pandas as pd\n",
    "from sklearn.model_selection import train_test_split\n",
    "from sklearn.linear_model import Ridge\n",
    "from scipy.stats import spearmanr\n",
    "from sklearn.svm import SVR\n",
    "from sklearn.ensemble import AdaBoostRegressor"
   ]
  },
  {
   "cell_type": "code",
   "execution_count": 200,
   "id": "d0c8fffe",
   "metadata": {},
   "outputs": [
    {
     "name": "stdout",
     "output_type": "stream",
     "text": [
      "Unnamed: 0            28955.000000\n",
      "6_tenth_str_match         0.666667\n",
      "14_tenth_str_match        0.625000\n",
      "15_tenth_str_match        0.666667\n",
      "17_tenth_str_match        0.666667\n",
      "                          ...     \n",
      "96-100S_count             0.558730\n",
      "96-100T_count             0.805646\n",
      "96-100W_count             0.449180\n",
      "96-100V_count             0.626631\n",
      "sim_ratio                 0.371429\n",
      "Length: 342, dtype: float64\n"
     ]
    }
   ],
   "source": [
    "df = pd.read_csv('/Users/patricknaylor/Desktop/kaggle/kaggle-NOVO/data/selected_vars_6.csv')\n",
    "target = pd.read_csv('/Users/patricknaylor/Desktop/kaggle/kaggle-NOVO/data/target_2.csv')\n",
    "X = np.array(df)[:,1:]\n",
    "y = np.array(target)[:, 1]\n",
    "print(df.max())"
   ]
  },
  {
   "cell_type": "code",
   "execution_count": 201,
   "id": "a743b6da",
   "metadata": {},
   "outputs": [
    {
     "name": "stdout",
     "output_type": "stream",
     "text": [
      "(28956,)\n"
     ]
    }
   ],
   "source": [
    "print(y.shape)"
   ]
  },
  {
   "cell_type": "code",
   "execution_count": 202,
   "id": "a1a2774e",
   "metadata": {},
   "outputs": [],
   "source": [
    "X_train, X_test, y_train, y_test = train_test_split(X, y, test_size=.25)\n"
   ]
  },
  {
   "cell_type": "code",
   "execution_count": 203,
   "id": "073ec7ba",
   "metadata": {},
   "outputs": [
    {
     "name": "stdout",
     "output_type": "stream",
     "text": [
      "SpearmanrResult(correlation=0.36518489429244066, pvalue=0.0)\n",
      "SpearmanrResult(correlation=0.34330429760746856, pvalue=2.330045122698483e-199)\n"
     ]
    }
   ],
   "source": [
    "\n",
    "rid = Ridge()\n",
    "regr = AdaBoostRegressor(rid, n_estimators=100)\n",
    "regr.fit(X_train, y_train)\n",
    "train_pred = regr.predict(X_train)\n",
    "test_pred = regr.predict(X_test)\n",
    "print(spearmanr(train_pred, y_train))\n",
    "print(spearmanr(test_pred, y_test))"
   ]
  },
  {
   "cell_type": "code",
   "execution_count": 204,
   "id": "0eac65c3",
   "metadata": {},
   "outputs": [],
   "source": [
    "test_mod = pd.read_csv('/Users/patricknaylor/Desktop/kaggle/kaggle-NOVO/data/test_2.csv')\n",
    "test = pd.read_csv('/Users/patricknaylor/Desktop/kaggle/kaggle-NOVO/data/test.csv')\n",
    "seq_id = np.array(test['seq_id'])\n",
    "columns = []\n",
    "with open('/Users/patricknaylor/Desktop/kaggle/kaggle-NOVO/data/col_7.csv', 'r') as f:\n",
    "    while True:\n",
    "        line = f.readline()\n",
    "        if not line:\n",
    "            break\n",
    "        columns.append(line.strip())"
   ]
  },
  {
   "cell_type": "code",
   "execution_count": 205,
   "id": "9cd6a1ad",
   "metadata": {},
   "outputs": [
    {
     "name": "stdout",
     "output_type": "stream",
     "text": [
      "341\n"
     ]
    }
   ],
   "source": [
    "print(len(columns))"
   ]
  },
  {
   "cell_type": "code",
   "execution_count": 206,
   "id": "89aaa839",
   "metadata": {},
   "outputs": [],
   "source": [
    "\n",
    "test_selected = test_mod[columns]\n",
    "submission_pred = regr.predict(np.array(test_selected))\n"
   ]
  },
  {
   "cell_type": "code",
   "execution_count": 207,
   "id": "ca4b414e",
   "metadata": {},
   "outputs": [
    {
     "name": "stdout",
     "output_type": "stream",
     "text": [
      "      seq_id        tm\n",
      "0      31390 -0.442606\n",
      "1      31391 -0.438229\n",
      "2      31392 -0.428620\n",
      "3      31393 -0.448541\n",
      "4      31394 -0.442651\n",
      "...      ...       ...\n",
      "2408   33798 -0.438814\n",
      "2409   33799 -0.444034\n",
      "2410   33800 -0.434979\n",
      "2411   33801 -0.440401\n",
      "2412   33802 -0.439642\n",
      "\n",
      "[2413 rows x 2 columns]\n"
     ]
    }
   ],
   "source": [
    "submission_df = pd.DataFrame({'seq_id': np.array(seq_id), 'tm': submission_pred * -1})\n",
    "submission_df.to_csv('/Users/patricknaylor/Desktop/kaggle/kaggle-NOVO/data/sub_10.csv', index=False)\n",
    "print(submission_df)"
   ]
  },
  {
   "cell_type": "code",
   "execution_count": 208,
   "id": "ec08b7f1",
   "metadata": {},
   "outputs": [],
   "source": [
    "sub1 = pd.read_csv('/Users/patricknaylor/Desktop/kaggle/kaggle-NOVO/data/sub_6.csv')\n",
    "sample_sub = pd.read_csv('/Users/patricknaylor/Desktop/kaggle/kaggle-NOVO/data/sample_submission.csv')            \n"
   ]
  },
  {
   "cell_type": "code",
   "execution_count": null,
   "id": "e95d1db0",
   "metadata": {},
   "outputs": [],
   "source": [
    "print(sub1)\n",
    "print(sample_sub)"
   ]
  },
  {
   "cell_type": "code",
   "execution_count": null,
   "id": "9fc9bebc",
   "metadata": {},
   "outputs": [],
   "source": []
  },
  {
   "cell_type": "code",
   "execution_count": null,
   "id": "54ba9c3e",
   "metadata": {},
   "outputs": [],
   "source": []
  },
  {
   "cell_type": "code",
   "execution_count": null,
   "id": "a21a08fb",
   "metadata": {},
   "outputs": [],
   "source": []
  }
 ],
 "metadata": {
  "kernelspec": {
   "display_name": "Python 3 (ipykernel)",
   "language": "python",
   "name": "python3"
  },
  "language_info": {
   "codemirror_mode": {
    "name": "ipython",
    "version": 3
   },
   "file_extension": ".py",
   "mimetype": "text/x-python",
   "name": "python",
   "nbconvert_exporter": "python",
   "pygments_lexer": "ipython3",
   "version": "3.10.6"
  }
 },
 "nbformat": 4,
 "nbformat_minor": 5
}
