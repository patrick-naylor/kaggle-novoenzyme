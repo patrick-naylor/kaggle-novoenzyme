{
 "cells": [
  {
   "cell_type": "code",
   "execution_count": 113,
   "id": "150ec8a0",
   "metadata": {},
   "outputs": [],
   "source": [
    "import numpy as np\n",
    "import pandas as pd\n",
    "from sklearn.model_selection import train_test_split\n",
    "from sklearn.linear_model import Ridge\n",
    "from scipy.stats import spearmanr\n",
    "from sklearn.svm import SVR\n",
    "from sklearn.ensemble import AdaBoostRegressor"
   ]
  },
  {
   "cell_type": "code",
   "execution_count": 114,
   "id": "d0c8fffe",
   "metadata": {},
   "outputs": [],
   "source": [
    "df = pd.read_csv('/Users/patricknaylor/Desktop/kaggle/kaggle-NOVO/data/selected_vars_4.csv')\n",
    "target = pd.read_csv('/Users/patricknaylor/Desktop/kaggle/kaggle-NOVO/data/target.csv')\n",
    "X = np.array(df)[:,1:]\n",
    "y = np.array(target)[:, 1]\n"
   ]
  },
  {
   "cell_type": "code",
   "execution_count": 115,
   "id": "81d967a6",
   "metadata": {},
   "outputs": [
    {
     "name": "stdout",
     "output_type": "stream",
     "text": [
      "Index(['Unnamed: 0', '6_tenth_str_match', '0-4S_count', '4-8L_count',\n",
      "       '4-8S_count', '4-8T_count', '8-12N_count', '8-12L_count', '8-12S_count',\n",
      "       '8-12T_count',\n",
      "       ...\n",
      "       '96-100D_count', '96-100C_count', '96-100Q_count', '96-100G_count',\n",
      "       '96-100L_count', '96-100K_count', '96-100M_count', '96-100S_count',\n",
      "       '96-100T_count', 'sim_ratio'],\n",
      "      dtype='object', length=249)\n"
     ]
    }
   ],
   "source": [
    "print(df.columns)"
   ]
  },
  {
   "cell_type": "code",
   "execution_count": 116,
   "id": "a1a2774e",
   "metadata": {},
   "outputs": [],
   "source": [
    "X_train, X_test, y_train, y_test = train_test_split(X, y, test_size=.25)\n"
   ]
  },
  {
   "cell_type": "code",
   "execution_count": 117,
   "id": "073ec7ba",
   "metadata": {},
   "outputs": [
    {
     "name": "stdout",
     "output_type": "stream",
     "text": [
      "SpearmanrResult(correlation=0.3293563183407571, pvalue=0.0)\n",
      "SpearmanrResult(correlation=0.31312622665468204, pvalue=2.0278878034281215e-164)\n"
     ]
    }
   ],
   "source": [
    "\n",
    "rid = Ridge()\n",
    "regr = AdaBoostRegressor(rid, n_estimators=100)\n",
    "regr.fit(X_train, y_train)\n",
    "train_pred = regr.predict(X_train)\n",
    "test_pred = regr.predict(X_test)\n",
    "print(spearmanr(train_pred, y_train))\n",
    "print(spearmanr(test_pred, y_test))"
   ]
  },
  {
   "cell_type": "code",
   "execution_count": 118,
   "id": "0eac65c3",
   "metadata": {},
   "outputs": [],
   "source": [
    "test_mod = pd.read_csv('/Users/patricknaylor/Desktop/kaggle/kaggle-NOVO/data/test_2.csv')\n",
    "test = pd.read_csv('/Users/patricknaylor/Desktop/kaggle/kaggle-NOVO/data/test.csv')\n",
    "seq_id = np.array(test['seq_id'])\n",
    "columns = []\n",
    "with open('/Users/patricknaylor/Desktop/kaggle/kaggle-NOVO/data/col_3.csv', 'r') as f:\n",
    "    while True:\n",
    "        line = f.readline()\n",
    "        if not line:\n",
    "            break\n",
    "        columns.append(line.strip())"
   ]
  },
  {
   "cell_type": "code",
   "execution_count": 119,
   "id": "89aaa839",
   "metadata": {},
   "outputs": [],
   "source": [
    "\n",
    "test_selected = test_mod[columns]\n",
    "submission_pred = regr.predict(np.array(test_selected))\n"
   ]
  },
  {
   "cell_type": "code",
   "execution_count": 123,
   "id": "09c98f5e",
   "metadata": {},
   "outputs": [
    {
     "name": "stdout",
     "output_type": "stream",
     "text": [
      "      seq_id        tm\n",
      "0      31390  0.368899\n",
      "1      31391  0.370444\n",
      "2      31392  0.395020\n",
      "3      31393  0.365080\n",
      "4      31394  0.377918\n",
      "...      ...       ...\n",
      "2408   33798  0.370759\n",
      "2409   33799  0.373419\n",
      "2410   33800  0.363302\n",
      "2411   33801  0.370759\n",
      "2412   33802  0.370759\n",
      "\n",
      "[2413 rows x 2 columns]\n"
     ]
    }
   ],
   "source": [
    "submission_df = pd.DataFrame({'seq_id': np.array(seq_id), 'tm': submission_pred})\n",
    "submission_df.to_csv('/Users/patricknaylor/Desktop/kaggle/kaggle-NOVO/data/sub_5.csv', index=False)\n",
    "print(submission_df)"
   ]
  },
  {
   "cell_type": "code",
   "execution_count": 121,
   "id": "4b39a451",
   "metadata": {},
   "outputs": [],
   "source": [
    "sub1 = pd.read_csv('/Users/patricknaylor/Desktop/kaggle/kaggle-NOVO/data/sub_.csv')\n",
    "sample_sub = pd.read_csv('/Users/patricknaylor/Desktop/kaggle/kaggle-NOVO/data/sample_submission.csv')            \n"
   ]
  },
  {
   "cell_type": "code",
   "execution_count": 122,
   "id": "18f66268",
   "metadata": {},
   "outputs": [
    {
     "name": "stdout",
     "output_type": "stream",
     "text": [
      "      seq_id        tm\n",
      "0      31390  0.368899\n",
      "1      31391  0.370444\n",
      "2      31392  0.395020\n",
      "3      31393  0.365080\n",
      "4      31394  0.377918\n",
      "...      ...       ...\n",
      "2408   33798  0.370759\n",
      "2409   33799  0.373419\n",
      "2410   33800  0.363302\n",
      "2411   33801  0.370759\n",
      "2412   33802  0.370759\n",
      "\n",
      "[2413 rows x 2 columns]\n",
      "      seq_id    tm\n",
      "0      31390     0\n",
      "1      31391     1\n",
      "2      31392     2\n",
      "3      31393     3\n",
      "4      31394     4\n",
      "...      ...   ...\n",
      "2408   33798  2408\n",
      "2409   33799  2409\n",
      "2410   33800  2410\n",
      "2411   33801  2411\n",
      "2412   33802  2412\n",
      "\n",
      "[2413 rows x 2 columns]\n"
     ]
    }
   ],
   "source": [
    "print(sub1)\n",
    "print(sample_sub)"
   ]
  },
  {
   "cell_type": "code",
   "execution_count": null,
   "id": "13b192ad",
   "metadata": {},
   "outputs": [],
   "source": []
  },
  {
   "cell_type": "code",
   "execution_count": null,
   "id": "41a8c4dc",
   "metadata": {},
   "outputs": [],
   "source": []
  },
  {
   "cell_type": "code",
   "execution_count": null,
   "id": "f49c666d",
   "metadata": {},
   "outputs": [],
   "source": []
  }
 ],
 "metadata": {
  "kernelspec": {
   "display_name": "Python 3 (ipykernel)",
   "language": "python",
   "name": "python3"
  },
  "language_info": {
   "codemirror_mode": {
    "name": "ipython",
    "version": 3
   },
   "file_extension": ".py",
   "mimetype": "text/x-python",
   "name": "python",
   "nbconvert_exporter": "python",
   "pygments_lexer": "ipython3",
   "version": "3.10.6"
  }
 },
 "nbformat": 4,
 "nbformat_minor": 5
}
