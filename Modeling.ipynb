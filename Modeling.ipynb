{
 "cells": [
  {
   "cell_type": "code",
   "execution_count": 125,
   "id": "150ec8a0",
   "metadata": {},
   "outputs": [],
   "source": [
    "import numpy as np\n",
    "import pandas as pd\n",
    "from sklearn.model_selection import train_test_split\n",
    "from sklearn.linear_model import Ridge\n",
    "from scipy.stats import spearmanr\n",
    "from sklearn.svm import SVR\n",
    "from sklearn.ensemble import AdaBoostRegressor"
   ]
  },
  {
   "cell_type": "code",
   "execution_count": 126,
   "id": "d0c8fffe",
   "metadata": {},
   "outputs": [],
   "source": [
    "df = pd.read_csv('/Users/patricknaylor/Desktop/kaggle/kaggle-NOVO/data/selected_vars_5.csv')\n",
    "target = pd.read_csv('/Users/patricknaylor/Desktop/kaggle/kaggle-NOVO/data/target.csv')\n",
    "X = np.array(df)[:,1:]\n",
    "y = np.array(target)[:, 1]\n"
   ]
  },
  {
   "cell_type": "code",
   "execution_count": 130,
   "id": "349e5156",
   "metadata": {},
   "outputs": [
    {
     "name": "stdout",
     "output_type": "stream",
     "text": [
      "(17629, 391)\n"
     ]
    }
   ],
   "source": [
    "print(y.shape)"
   ]
  },
  {
   "cell_type": "code",
   "execution_count": 128,
   "id": "a1a2774e",
   "metadata": {},
   "outputs": [
    {
     "ename": "ValueError",
     "evalue": "Found input variables with inconsistent numbers of samples: [17629, 28956]",
     "output_type": "error",
     "traceback": [
      "\u001b[0;31m---------------------------------------------------------------------------\u001b[0m",
      "\u001b[0;31mValueError\u001b[0m                                Traceback (most recent call last)",
      "Cell \u001b[0;32mIn [128], line 1\u001b[0m\n\u001b[0;32m----> 1\u001b[0m X_train, X_test, y_train, y_test \u001b[38;5;241m=\u001b[39m \u001b[43mtrain_test_split\u001b[49m\u001b[43m(\u001b[49m\u001b[43mX\u001b[49m\u001b[43m,\u001b[49m\u001b[43m \u001b[49m\u001b[43my\u001b[49m\u001b[43m,\u001b[49m\u001b[43m \u001b[49m\u001b[43mtest_size\u001b[49m\u001b[38;5;241;43m=\u001b[39;49m\u001b[38;5;241;43m.25\u001b[39;49m\u001b[43m)\u001b[49m\n",
      "File \u001b[0;32m~/miniconda3/envs/novo/lib/python3.10/site-packages/sklearn/model_selection/_split.py:2445\u001b[0m, in \u001b[0;36mtrain_test_split\u001b[0;34m(test_size, train_size, random_state, shuffle, stratify, *arrays)\u001b[0m\n\u001b[1;32m   2442\u001b[0m \u001b[38;5;28;01mif\u001b[39;00m n_arrays \u001b[38;5;241m==\u001b[39m \u001b[38;5;241m0\u001b[39m:\n\u001b[1;32m   2443\u001b[0m     \u001b[38;5;28;01mraise\u001b[39;00m \u001b[38;5;167;01mValueError\u001b[39;00m(\u001b[38;5;124m\"\u001b[39m\u001b[38;5;124mAt least one array required as input\u001b[39m\u001b[38;5;124m\"\u001b[39m)\n\u001b[0;32m-> 2445\u001b[0m arrays \u001b[38;5;241m=\u001b[39m \u001b[43mindexable\u001b[49m\u001b[43m(\u001b[49m\u001b[38;5;241;43m*\u001b[39;49m\u001b[43marrays\u001b[49m\u001b[43m)\u001b[49m\n\u001b[1;32m   2447\u001b[0m n_samples \u001b[38;5;241m=\u001b[39m _num_samples(arrays[\u001b[38;5;241m0\u001b[39m])\n\u001b[1;32m   2448\u001b[0m n_train, n_test \u001b[38;5;241m=\u001b[39m _validate_shuffle_split(\n\u001b[1;32m   2449\u001b[0m     n_samples, test_size, train_size, default_test_size\u001b[38;5;241m=\u001b[39m\u001b[38;5;241m0.25\u001b[39m\n\u001b[1;32m   2450\u001b[0m )\n",
      "File \u001b[0;32m~/miniconda3/envs/novo/lib/python3.10/site-packages/sklearn/utils/validation.py:433\u001b[0m, in \u001b[0;36mindexable\u001b[0;34m(*iterables)\u001b[0m\n\u001b[1;32m    414\u001b[0m \u001b[38;5;124;03m\"\"\"Make arrays indexable for cross-validation.\u001b[39;00m\n\u001b[1;32m    415\u001b[0m \n\u001b[1;32m    416\u001b[0m \u001b[38;5;124;03mChecks consistent length, passes through None, and ensures that everything\u001b[39;00m\n\u001b[0;32m   (...)\u001b[0m\n\u001b[1;32m    429\u001b[0m \u001b[38;5;124;03m    sparse matrix, or dataframe) or `None`.\u001b[39;00m\n\u001b[1;32m    430\u001b[0m \u001b[38;5;124;03m\"\"\"\u001b[39;00m\n\u001b[1;32m    432\u001b[0m result \u001b[38;5;241m=\u001b[39m [_make_indexable(X) \u001b[38;5;28;01mfor\u001b[39;00m X \u001b[38;5;129;01min\u001b[39;00m iterables]\n\u001b[0;32m--> 433\u001b[0m \u001b[43mcheck_consistent_length\u001b[49m\u001b[43m(\u001b[49m\u001b[38;5;241;43m*\u001b[39;49m\u001b[43mresult\u001b[49m\u001b[43m)\u001b[49m\n\u001b[1;32m    434\u001b[0m \u001b[38;5;28;01mreturn\u001b[39;00m result\n",
      "File \u001b[0;32m~/miniconda3/envs/novo/lib/python3.10/site-packages/sklearn/utils/validation.py:387\u001b[0m, in \u001b[0;36mcheck_consistent_length\u001b[0;34m(*arrays)\u001b[0m\n\u001b[1;32m    385\u001b[0m uniques \u001b[38;5;241m=\u001b[39m np\u001b[38;5;241m.\u001b[39munique(lengths)\n\u001b[1;32m    386\u001b[0m \u001b[38;5;28;01mif\u001b[39;00m \u001b[38;5;28mlen\u001b[39m(uniques) \u001b[38;5;241m>\u001b[39m \u001b[38;5;241m1\u001b[39m:\n\u001b[0;32m--> 387\u001b[0m     \u001b[38;5;28;01mraise\u001b[39;00m \u001b[38;5;167;01mValueError\u001b[39;00m(\n\u001b[1;32m    388\u001b[0m         \u001b[38;5;124m\"\u001b[39m\u001b[38;5;124mFound input variables with inconsistent numbers of samples: \u001b[39m\u001b[38;5;132;01m%r\u001b[39;00m\u001b[38;5;124m\"\u001b[39m\n\u001b[1;32m    389\u001b[0m         \u001b[38;5;241m%\u001b[39m [\u001b[38;5;28mint\u001b[39m(l) \u001b[38;5;28;01mfor\u001b[39;00m l \u001b[38;5;129;01min\u001b[39;00m lengths]\n\u001b[1;32m    390\u001b[0m     )\n",
      "\u001b[0;31mValueError\u001b[0m: Found input variables with inconsistent numbers of samples: [17629, 28956]"
     ]
    }
   ],
   "source": [
    "X_train, X_test, y_train, y_test = train_test_split(X, y, test_size=.25)\n"
   ]
  },
  {
   "cell_type": "code",
   "execution_count": 129,
   "id": "073ec7ba",
   "metadata": {},
   "outputs": [
    {
     "name": "stdout",
     "output_type": "stream",
     "text": [
      "SpearmanrResult(correlation=0.32878214081365287, pvalue=0.0)\n",
      "SpearmanrResult(correlation=0.314991252496299, pvalue=1.8284709922020914e-166)\n"
     ]
    }
   ],
   "source": [
    "\n",
    "rid = Ridge()\n",
    "regr = AdaBoostRegressor(rid, n_estimators=100)\n",
    "regr.fit(X_train, y_train)\n",
    "train_pred = regr.predict(X_train)\n",
    "test_pred = regr.predict(X_test)\n",
    "print(spearmanr(train_pred, y_train))\n",
    "print(spearmanr(test_pred, y_test))"
   ]
  },
  {
   "cell_type": "code",
   "execution_count": 118,
   "id": "0eac65c3",
   "metadata": {},
   "outputs": [],
   "source": [
    "test_mod = pd.read_csv('/Users/patricknaylor/Desktop/kaggle/kaggle-NOVO/data/test_2.csv')\n",
    "test = pd.read_csv('/Users/patricknaylor/Desktop/kaggle/kaggle-NOVO/data/test.csv')\n",
    "seq_id = np.array(test['seq_id'])\n",
    "columns = []\n",
    "with open('/Users/patricknaylor/Desktop/kaggle/kaggle-NOVO/data/col_4.csv', 'r') as f:\n",
    "    while True:\n",
    "        line = f.readline()\n",
    "        if not line:\n",
    "            break\n",
    "        columns.append(line.strip())"
   ]
  },
  {
   "cell_type": "code",
   "execution_count": 119,
   "id": "89aaa839",
   "metadata": {},
   "outputs": [],
   "source": [
    "\n",
    "test_selected = test_mod[columns]\n",
    "submission_pred = regr.predict(np.array(test_selected))\n"
   ]
  },
  {
   "cell_type": "code",
   "execution_count": 123,
   "id": "00e5d547",
   "metadata": {},
   "outputs": [
    {
     "name": "stdout",
     "output_type": "stream",
     "text": [
      "      seq_id        tm\n",
      "0      31390  0.368899\n",
      "1      31391  0.370444\n",
      "2      31392  0.395020\n",
      "3      31393  0.365080\n",
      "4      31394  0.377918\n",
      "...      ...       ...\n",
      "2408   33798  0.370759\n",
      "2409   33799  0.373419\n",
      "2410   33800  0.363302\n",
      "2411   33801  0.370759\n",
      "2412   33802  0.370759\n",
      "\n",
      "[2413 rows x 2 columns]\n"
     ]
    }
   ],
   "source": [
    "submission_df = pd.DataFrame({'seq_id': np.array(seq_id), 'tm': submission_pred * -1})\n",
    "submission_df.to_csv('/Users/patricknaylor/Desktop/kaggle/kaggle-NOVO/data/sub_5.csv', index=False)\n",
    "print(submission_df)"
   ]
  },
  {
   "cell_type": "code",
   "execution_count": 121,
   "id": "a3b29806",
   "metadata": {},
   "outputs": [],
   "source": [
    "sub1 = pd.read_csv('/Users/patricknaylor/Desktop/kaggle/kaggle-NOVO/data/sub_.csv')\n",
    "sample_sub = pd.read_csv('/Users/patricknaylor/Desktop/kaggle/kaggle-NOVO/data/sample_submission.csv')            \n"
   ]
  },
  {
   "cell_type": "code",
   "execution_count": 122,
   "id": "8d725626",
   "metadata": {},
   "outputs": [
    {
     "name": "stdout",
     "output_type": "stream",
     "text": [
      "      seq_id        tm\n",
      "0      31390  0.368899\n",
      "1      31391  0.370444\n",
      "2      31392  0.395020\n",
      "3      31393  0.365080\n",
      "4      31394  0.377918\n",
      "...      ...       ...\n",
      "2408   33798  0.370759\n",
      "2409   33799  0.373419\n",
      "2410   33800  0.363302\n",
      "2411   33801  0.370759\n",
      "2412   33802  0.370759\n",
      "\n",
      "[2413 rows x 2 columns]\n",
      "      seq_id    tm\n",
      "0      31390     0\n",
      "1      31391     1\n",
      "2      31392     2\n",
      "3      31393     3\n",
      "4      31394     4\n",
      "...      ...   ...\n",
      "2408   33798  2408\n",
      "2409   33799  2409\n",
      "2410   33800  2410\n",
      "2411   33801  2411\n",
      "2412   33802  2412\n",
      "\n",
      "[2413 rows x 2 columns]\n"
     ]
    }
   ],
   "source": [
    "print(sub1)\n",
    "print(sample_sub)"
   ]
  },
  {
   "cell_type": "code",
   "execution_count": null,
   "id": "fa7d11bc",
   "metadata": {},
   "outputs": [],
   "source": []
  },
  {
   "cell_type": "code",
   "execution_count": null,
   "id": "9814cb42",
   "metadata": {},
   "outputs": [],
   "source": []
  },
  {
   "cell_type": "code",
   "execution_count": null,
   "id": "8311ce1e",
   "metadata": {},
   "outputs": [],
   "source": []
  }
 ],
 "metadata": {
  "kernelspec": {
   "display_name": "Python 3 (ipykernel)",
   "language": "python",
   "name": "python3"
  },
  "language_info": {
   "codemirror_mode": {
    "name": "ipython",
    "version": 3
   },
   "file_extension": ".py",
   "mimetype": "text/x-python",
   "name": "python",
   "nbconvert_exporter": "python",
   "pygments_lexer": "ipython3",
   "version": "3.10.6"
  }
 },
 "nbformat": 4,
 "nbformat_minor": 5
}
