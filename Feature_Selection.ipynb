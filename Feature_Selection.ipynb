{
 "cells": [
  {
   "cell_type": "code",
   "execution_count": 44,
   "id": "6d6b55df",
   "metadata": {},
   "outputs": [],
   "source": [
    "import numpy as np\n",
    "import pandas as pd\n",
    "from sklearn.feature_selection import GenericUnivariateSelect, chi2, r_regression\n",
    "from scipy.stats import spearmanr"
   ]
  },
  {
   "cell_type": "code",
   "execution_count": 45,
   "id": "bee65d88",
   "metadata": {},
   "outputs": [
    {
     "name": "stdout",
     "output_type": "stream",
     "text": [
      "(array([1.        , 1.28571429, 0.2       , 0.4       , 0.33333333,\n",
      "       1.        ]), array([0.31731051, 0.25683926, 0.65472085, 0.52708926, 0.56370286,\n",
      "       0.31731051]))\n"
     ]
    }
   ],
   "source": [
    "a = np.array([[1, 2, 3, 4, 5, 6], [3, 5, 2, 6, 7, 3]])\n",
    "b = np.array([4, 3])\n",
    "print(chi2(a, b))"
   ]
  },
  {
   "cell_type": "code",
   "execution_count": 46,
   "id": "9b77fc17",
   "metadata": {},
   "outputs": [],
   "source": [
    "df = pd.read_csv('/Users/patricknaylor/Desktop/kaggle/kaggle-NOVO/data/variables_4.csv')\n",
    "target = pd.read_csv('/Users/patricknaylor/Desktop/kaggle/kaggle-NOVO/data/target.csv')\n",
    "var_arr = np.array(df)[:,1:]\n",
    "target_arr = np.array(target)[:, 1]"
   ]
  },
  {
   "cell_type": "code",
   "execution_count": 47,
   "id": "9707f828",
   "metadata": {},
   "outputs": [
    {
     "name": "stdout",
     "output_type": "stream",
     "text": [
      "(28956, 536)\n",
      "(28956,)\n"
     ]
    },
    {
     "data": {
      "text/html": [
       "<div>\n",
       "<style scoped>\n",
       "    .dataframe tbody tr th:only-of-type {\n",
       "        vertical-align: middle;\n",
       "    }\n",
       "\n",
       "    .dataframe tbody tr th {\n",
       "        vertical-align: top;\n",
       "    }\n",
       "\n",
       "    .dataframe thead th {\n",
       "        text-align: right;\n",
       "    }\n",
       "</style>\n",
       "<table border=\"1\" class=\"dataframe\">\n",
       "  <thead>\n",
       "    <tr style=\"text-align: right;\">\n",
       "      <th></th>\n",
       "      <th>r-score</th>\n",
       "    </tr>\n",
       "    <tr>\n",
       "      <th>feature</th>\n",
       "      <th></th>\n",
       "    </tr>\n",
       "  </thead>\n",
       "  <tbody>\n",
       "    <tr>\n",
       "      <th>0_tenth_str_match</th>\n",
       "      <td>-0.029160</td>\n",
       "    </tr>\n",
       "    <tr>\n",
       "      <th>1_tenth_str_match</th>\n",
       "      <td>-0.035789</td>\n",
       "    </tr>\n",
       "    <tr>\n",
       "      <th>2_tenth_str_match</th>\n",
       "      <td>0.006300</td>\n",
       "    </tr>\n",
       "    <tr>\n",
       "      <th>3_tenth_str_match</th>\n",
       "      <td>-0.026322</td>\n",
       "    </tr>\n",
       "    <tr>\n",
       "      <th>4_tenth_str_match</th>\n",
       "      <td>-0.039590</td>\n",
       "    </tr>\n",
       "    <tr>\n",
       "      <th>...</th>\n",
       "      <td>...</td>\n",
       "    </tr>\n",
       "    <tr>\n",
       "      <th>first15</th>\n",
       "      <td>-0.020285</td>\n",
       "    </tr>\n",
       "    <tr>\n",
       "      <th>last15</th>\n",
       "      <td>-0.039608</td>\n",
       "    </tr>\n",
       "    <tr>\n",
       "      <th>first30</th>\n",
       "      <td>0.001461</td>\n",
       "    </tr>\n",
       "    <tr>\n",
       "      <th>last30</th>\n",
       "      <td>0.004781</td>\n",
       "    </tr>\n",
       "    <tr>\n",
       "      <th>sim_ratio</th>\n",
       "      <td>-0.158704</td>\n",
       "    </tr>\n",
       "  </tbody>\n",
       "</table>\n",
       "<p>536 rows × 1 columns</p>\n",
       "</div>"
      ],
      "text/plain": [
       "                    r-score\n",
       "feature                    \n",
       "0_tenth_str_match -0.029160\n",
       "1_tenth_str_match -0.035789\n",
       "2_tenth_str_match  0.006300\n",
       "3_tenth_str_match -0.026322\n",
       "4_tenth_str_match -0.039590\n",
       "...                     ...\n",
       "first15           -0.020285\n",
       "last15            -0.039608\n",
       "first30            0.001461\n",
       "last30             0.004781\n",
       "sim_ratio         -0.158704\n",
       "\n",
       "[536 rows x 1 columns]"
      ]
     },
     "execution_count": 47,
     "metadata": {},
     "output_type": "execute_result"
    }
   ],
   "source": [
    "print(var_arr.shape)\n",
    "print(target_arr.shape)\n",
    "selection = r_regression(var_arr, target_arr)\n",
    "features = pd.DataFrame(list(zip(df.columns[1:], selection)), columns=['feature', 'r-score'])\n",
    "features.set_index('feature')"
   ]
  },
  {
   "cell_type": "code",
   "execution_count": 48,
   "id": "41d1e730",
   "metadata": {},
   "outputs": [
    {
     "data": {
      "text/html": [
       "<div>\n",
       "<style scoped>\n",
       "    .dataframe tbody tr th:only-of-type {\n",
       "        vertical-align: middle;\n",
       "    }\n",
       "\n",
       "    .dataframe tbody tr th {\n",
       "        vertical-align: top;\n",
       "    }\n",
       "\n",
       "    .dataframe thead th {\n",
       "        text-align: right;\n",
       "    }\n",
       "</style>\n",
       "<table border=\"1\" class=\"dataframe\">\n",
       "  <thead>\n",
       "    <tr style=\"text-align: right;\">\n",
       "      <th></th>\n",
       "      <th>feature</th>\n",
       "      <th>r-score</th>\n",
       "    </tr>\n",
       "  </thead>\n",
       "  <tbody>\n",
       "    <tr>\n",
       "      <th>520</th>\n",
       "      <td>96-100S_count</td>\n",
       "      <td>0.262101</td>\n",
       "    </tr>\n",
       "    <tr>\n",
       "      <th>500</th>\n",
       "      <td>92-96S_count</td>\n",
       "      <td>0.251998</td>\n",
       "    </tr>\n",
       "    <tr>\n",
       "      <th>480</th>\n",
       "      <td>88-92S_count</td>\n",
       "      <td>0.245217</td>\n",
       "    </tr>\n",
       "    <tr>\n",
       "      <th>460</th>\n",
       "      <td>84-88S_count</td>\n",
       "      <td>0.241028</td>\n",
       "    </tr>\n",
       "    <tr>\n",
       "      <th>440</th>\n",
       "      <td>80-84S_count</td>\n",
       "      <td>0.237328</td>\n",
       "    </tr>\n",
       "    <tr>\n",
       "      <th>...</th>\n",
       "      <td>...</td>\n",
       "      <td>...</td>\n",
       "    </tr>\n",
       "    <tr>\n",
       "      <th>525</th>\n",
       "      <td>first1</td>\n",
       "      <td>0.004096</td>\n",
       "    </tr>\n",
       "    <tr>\n",
       "      <th>522</th>\n",
       "      <td>96-100W_count</td>\n",
       "      <td>0.002789</td>\n",
       "    </tr>\n",
       "    <tr>\n",
       "      <th>533</th>\n",
       "      <td>first30</td>\n",
       "      <td>0.001461</td>\n",
       "    </tr>\n",
       "    <tr>\n",
       "      <th>162</th>\n",
       "      <td>24-28W_count</td>\n",
       "      <td>-0.000307</td>\n",
       "    </tr>\n",
       "    <tr>\n",
       "      <th>38</th>\n",
       "      <td>0-4F_count</td>\n",
       "      <td>-0.000286</td>\n",
       "    </tr>\n",
       "  </tbody>\n",
       "</table>\n",
       "<p>536 rows × 2 columns</p>\n",
       "</div>"
      ],
      "text/plain": [
       "           feature   r-score\n",
       "520  96-100S_count  0.262101\n",
       "500   92-96S_count  0.251998\n",
       "480   88-92S_count  0.245217\n",
       "460   84-88S_count  0.241028\n",
       "440   80-84S_count  0.237328\n",
       "..             ...       ...\n",
       "525         first1  0.004096\n",
       "522  96-100W_count  0.002789\n",
       "533        first30  0.001461\n",
       "162   24-28W_count -0.000307\n",
       "38      0-4F_count -0.000286\n",
       "\n",
       "[536 rows x 2 columns]"
      ]
     },
     "execution_count": 48,
     "metadata": {},
     "output_type": "execute_result"
    }
   ],
   "source": [
    "features.sort_values(by='r-score', key=lambda col: col.abs(), ascending=False)"
   ]
  },
  {
   "cell_type": "code",
   "execution_count": 49,
   "id": "10d9ee0d",
   "metadata": {},
   "outputs": [],
   "source": [
    "cor_columns = list(features[features['r-score'].abs() >.05]['feature'])"
   ]
  },
  {
   "cell_type": "code",
   "execution_count": 50,
   "id": "bf97f252",
   "metadata": {},
   "outputs": [],
   "source": [
    "selected_data = df[cor_columns]\n",
    "selected_data.to_csv('/Users/patricknaylor/Desktop/kaggle/kaggle-NOVO/data/selected_vars_5.csv')\n"
   ]
  },
  {
   "cell_type": "code",
   "execution_count": 51,
   "id": "ebea46c2",
   "metadata": {},
   "outputs": [],
   "source": [
    "with open('/Users/patricknaylor/Desktop/kaggle/kaggle-NOVO/data/col_4.csv', 'w') as f:\n",
    "    for line in cor_columns:\n",
    "        f.write(f'{line}\\n')\n",
    "\n"
   ]
  },
  {
   "cell_type": "code",
   "execution_count": null,
   "id": "e287e0cd",
   "metadata": {},
   "outputs": [],
   "source": []
  },
  {
   "cell_type": "code",
   "execution_count": null,
   "id": "88e22a1e",
   "metadata": {},
   "outputs": [],
   "source": []
  }
 ],
 "metadata": {
  "kernelspec": {
   "display_name": "Python 3 (ipykernel)",
   "language": "python",
   "name": "python3"
  },
  "language_info": {
   "codemirror_mode": {
    "name": "ipython",
    "version": 3
   },
   "file_extension": ".py",
   "mimetype": "text/x-python",
   "name": "python",
   "nbconvert_exporter": "python",
   "pygments_lexer": "ipython3",
   "version": "3.10.6"
  }
 },
 "nbformat": 4,
 "nbformat_minor": 5
}
