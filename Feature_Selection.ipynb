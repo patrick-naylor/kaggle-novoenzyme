{
 "cells": [
  {
   "cell_type": "code",
   "execution_count": 62,
   "id": "6d6b55df",
   "metadata": {},
   "outputs": [],
   "source": [
    "import numpy as np\n",
    "import pandas as pd\n",
    "from sklearn.feature_selection import GenericUnivariateSelect, chi2, r_regression\n",
    "from scipy.stats import spearmanr"
   ]
  },
  {
   "cell_type": "code",
   "execution_count": 63,
   "id": "bee65d88",
   "metadata": {},
   "outputs": [
    {
     "name": "stdout",
     "output_type": "stream",
     "text": [
      "(array([1.        , 1.28571429, 0.2       , 0.4       , 0.33333333,\n",
      "       1.        ]), array([0.31731051, 0.25683926, 0.65472085, 0.52708926, 0.56370286,\n",
      "       0.31731051]))\n"
     ]
    }
   ],
   "source": [
    "a = np.array([[1, 2, 3, 4, 5, 6], [3, 5, 2, 6, 7, 3]])\n",
    "b = np.array([4, 3])\n",
    "print(chi2(a, b))"
   ]
  },
  {
   "cell_type": "code",
   "execution_count": 64,
   "id": "9b77fc17",
   "metadata": {},
   "outputs": [],
   "source": [
    "df = pd.read_csv('/Users/patricknaylor/Desktop/kaggle/kaggle-NOVO/data/variables_6.csv')\n",
    "target = pd.read_csv('/Users/patricknaylor/Desktop/kaggle/kaggle-NOVO/data/target_2.csv')\n",
    "var_arr = np.array(df)[:,1:]\n",
    "target_arr = np.array(target)[:, 1]"
   ]
  },
  {
   "cell_type": "code",
   "execution_count": 65,
   "id": "9707f828",
   "metadata": {},
   "outputs": [
    {
     "name": "stdout",
     "output_type": "stream",
     "text": [
      "(28956, 536)\n",
      "(28956,)\n"
     ]
    },
    {
     "data": {
      "text/html": [
       "<div>\n",
       "<style scoped>\n",
       "    .dataframe tbody tr th:only-of-type {\n",
       "        vertical-align: middle;\n",
       "    }\n",
       "\n",
       "    .dataframe tbody tr th {\n",
       "        vertical-align: top;\n",
       "    }\n",
       "\n",
       "    .dataframe thead th {\n",
       "        text-align: right;\n",
       "    }\n",
       "</style>\n",
       "<table border=\"1\" class=\"dataframe\">\n",
       "  <thead>\n",
       "    <tr style=\"text-align: right;\">\n",
       "      <th></th>\n",
       "      <th>r-score</th>\n",
       "    </tr>\n",
       "    <tr>\n",
       "      <th>feature</th>\n",
       "      <th></th>\n",
       "    </tr>\n",
       "  </thead>\n",
       "  <tbody>\n",
       "    <tr>\n",
       "      <th>0_tenth_str_match</th>\n",
       "      <td>0.029160</td>\n",
       "    </tr>\n",
       "    <tr>\n",
       "      <th>1_tenth_str_match</th>\n",
       "      <td>0.035789</td>\n",
       "    </tr>\n",
       "    <tr>\n",
       "      <th>2_tenth_str_match</th>\n",
       "      <td>-0.006300</td>\n",
       "    </tr>\n",
       "    <tr>\n",
       "      <th>3_tenth_str_match</th>\n",
       "      <td>0.026322</td>\n",
       "    </tr>\n",
       "    <tr>\n",
       "      <th>4_tenth_str_match</th>\n",
       "      <td>0.039590</td>\n",
       "    </tr>\n",
       "    <tr>\n",
       "      <th>...</th>\n",
       "      <td>...</td>\n",
       "    </tr>\n",
       "    <tr>\n",
       "      <th>first15</th>\n",
       "      <td>0.020285</td>\n",
       "    </tr>\n",
       "    <tr>\n",
       "      <th>last15</th>\n",
       "      <td>0.039608</td>\n",
       "    </tr>\n",
       "    <tr>\n",
       "      <th>first30</th>\n",
       "      <td>-0.001461</td>\n",
       "    </tr>\n",
       "    <tr>\n",
       "      <th>last30</th>\n",
       "      <td>-0.004781</td>\n",
       "    </tr>\n",
       "    <tr>\n",
       "      <th>sim_ratio</th>\n",
       "      <td>0.158704</td>\n",
       "    </tr>\n",
       "  </tbody>\n",
       "</table>\n",
       "<p>536 rows × 1 columns</p>\n",
       "</div>"
      ],
      "text/plain": [
       "                    r-score\n",
       "feature                    \n",
       "0_tenth_str_match  0.029160\n",
       "1_tenth_str_match  0.035789\n",
       "2_tenth_str_match -0.006300\n",
       "3_tenth_str_match  0.026322\n",
       "4_tenth_str_match  0.039590\n",
       "...                     ...\n",
       "first15            0.020285\n",
       "last15             0.039608\n",
       "first30           -0.001461\n",
       "last30            -0.004781\n",
       "sim_ratio          0.158704\n",
       "\n",
       "[536 rows x 1 columns]"
      ]
     },
     "execution_count": 65,
     "metadata": {},
     "output_type": "execute_result"
    }
   ],
   "source": [
    "print(var_arr.shape)\n",
    "print(target_arr.shape)\n",
    "selection = r_regression(var_arr, target_arr)\n",
    "features = pd.DataFrame(list(zip(df.columns[1:], selection)), columns=['feature', 'r-score'])\n",
    "features.set_index('feature')"
   ]
  },
  {
   "cell_type": "code",
   "execution_count": 66,
   "id": "41d1e730",
   "metadata": {},
   "outputs": [
    {
     "data": {
      "text/html": [
       "<div>\n",
       "<style scoped>\n",
       "    .dataframe tbody tr th:only-of-type {\n",
       "        vertical-align: middle;\n",
       "    }\n",
       "\n",
       "    .dataframe tbody tr th {\n",
       "        vertical-align: top;\n",
       "    }\n",
       "\n",
       "    .dataframe thead th {\n",
       "        text-align: right;\n",
       "    }\n",
       "</style>\n",
       "<table border=\"1\" class=\"dataframe\">\n",
       "  <thead>\n",
       "    <tr style=\"text-align: right;\">\n",
       "      <th></th>\n",
       "      <th>feature</th>\n",
       "      <th>r-score</th>\n",
       "    </tr>\n",
       "  </thead>\n",
       "  <tbody>\n",
       "    <tr>\n",
       "      <th>520</th>\n",
       "      <td>96-100S_count</td>\n",
       "      <td>-0.299551</td>\n",
       "    </tr>\n",
       "    <tr>\n",
       "      <th>500</th>\n",
       "      <td>92-96S_count</td>\n",
       "      <td>-0.285915</td>\n",
       "    </tr>\n",
       "    <tr>\n",
       "      <th>480</th>\n",
       "      <td>88-92S_count</td>\n",
       "      <td>-0.274944</td>\n",
       "    </tr>\n",
       "    <tr>\n",
       "      <th>460</th>\n",
       "      <td>84-88S_count</td>\n",
       "      <td>-0.269114</td>\n",
       "    </tr>\n",
       "    <tr>\n",
       "      <th>511</th>\n",
       "      <td>96-100Q_count</td>\n",
       "      <td>-0.265014</td>\n",
       "    </tr>\n",
       "    <tr>\n",
       "      <th>...</th>\n",
       "      <td>...</td>\n",
       "      <td>...</td>\n",
       "    </tr>\n",
       "    <tr>\n",
       "      <th>437</th>\n",
       "      <td>80-84M_count</td>\n",
       "      <td>0.000000</td>\n",
       "    </tr>\n",
       "    <tr>\n",
       "      <th>40</th>\n",
       "      <td>0-4S_count</td>\n",
       "      <td>0.000000</td>\n",
       "    </tr>\n",
       "    <tr>\n",
       "      <th>41</th>\n",
       "      <td>0-4T_count</td>\n",
       "      <td>0.000000</td>\n",
       "    </tr>\n",
       "    <tr>\n",
       "      <th>433</th>\n",
       "      <td>80-84H_count</td>\n",
       "      <td>0.000000</td>\n",
       "    </tr>\n",
       "    <tr>\n",
       "      <th>143</th>\n",
       "      <td>20-24Y_count</td>\n",
       "      <td>0.000000</td>\n",
       "    </tr>\n",
       "  </tbody>\n",
       "</table>\n",
       "<p>536 rows × 2 columns</p>\n",
       "</div>"
      ],
      "text/plain": [
       "           feature   r-score\n",
       "520  96-100S_count -0.299551\n",
       "500   92-96S_count -0.285915\n",
       "480   88-92S_count -0.274944\n",
       "460   84-88S_count -0.269114\n",
       "511  96-100Q_count -0.265014\n",
       "..             ...       ...\n",
       "437   80-84M_count  0.000000\n",
       "40      0-4S_count  0.000000\n",
       "41      0-4T_count  0.000000\n",
       "433   80-84H_count  0.000000\n",
       "143   20-24Y_count  0.000000\n",
       "\n",
       "[536 rows x 2 columns]"
      ]
     },
     "execution_count": 66,
     "metadata": {},
     "output_type": "execute_result"
    }
   ],
   "source": [
    "features.sort_values(by='r-score', key=lambda col: col.abs(), ascending=False)"
   ]
  },
  {
   "cell_type": "code",
   "execution_count": 67,
   "id": "10d9ee0d",
   "metadata": {},
   "outputs": [],
   "source": [
    "cor_columns = list(features[features['r-score'].abs() >.05]['feature'])"
   ]
  },
  {
   "cell_type": "code",
   "execution_count": 73,
   "id": "bf97f252",
   "metadata": {},
   "outputs": [
    {
     "name": "stdout",
     "output_type": "stream",
     "text": [
      "(28956, 341)\n",
      "341\n"
     ]
    }
   ],
   "source": [
    "selected_data = df[cor_columns]\n",
    "selected_data.to_csv('/Users/patricknaylor/Desktop/kaggle/kaggle-NOVO/data/selected_vars_6.csv')\n",
    "print(np.array(selected_data).shape)\n",
    "print(len(cor_columns))"
   ]
  },
  {
   "cell_type": "code",
   "execution_count": 69,
   "id": "891c5fd3",
   "metadata": {},
   "outputs": [
    {
     "name": "stdout",
     "output_type": "stream",
     "text": [
      "       6_tenth_str_match  14_tenth_str_match  15_tenth_str_match  \\\n",
      "0               0.190476            0.285714            0.190476   \n",
      "1               0.210526            0.210526            0.210526   \n",
      "2               0.222222            0.074074            0.074074   \n",
      "3               0.222222            0.222222            0.222222   \n",
      "4               0.151515            0.121212            0.090909   \n",
      "...                  ...                 ...                 ...   \n",
      "28951           0.206897            0.206897            0.137931   \n",
      "28952           0.230769            0.230769            0.461538   \n",
      "28953           0.153846            0.153846            0.153846   \n",
      "28954           0.193548            0.193548            0.129032   \n",
      "28955           0.275862            0.275862            0.137931   \n",
      "\n",
      "       17_tenth_str_match  21_tenth_str_match  22_tenth_str_match  0-4N_count  \\\n",
      "0                0.285714            0.285714            0.380952    0.000000   \n",
      "1                0.210526            0.315789            0.105263   -0.128205   \n",
      "2                0.296296            0.148148            0.074074    0.000000   \n",
      "3                0.111111            0.333333            0.111111    0.000000   \n",
      "4                0.151515            0.121212            0.090909   -0.533016   \n",
      "...                   ...                 ...                 ...         ...   \n",
      "28951            0.206897            0.275862            0.206897    0.000000   \n",
      "28952            0.230769            0.153846            0.230769   -0.359420   \n",
      "28953            0.153846            0.307692            0.153846    0.000000   \n",
      "28954            0.258065            0.129032            0.193548   -0.457002   \n",
      "28955            0.275862            0.137931            0.344828    0.000000   \n",
      "\n",
      "       0-4D_count  0-4E_count  0-4P_count  ...  96-100I_count  96-100L_count  \\\n",
      "0        0.000000    0.000000    0.000000  ...       0.168124       0.362795   \n",
      "1       -0.128205    0.214286   -0.590361  ...       0.252125       0.237435   \n",
      "2        0.000000    0.000000   -0.741822  ...       0.052882      -0.138994   \n",
      "3        0.000000    0.000000    0.000000  ...       0.111484       0.333669   \n",
      "4       -0.735646   -0.372753   -0.595090  ...       0.286306       0.226009   \n",
      "...           ...         ...         ...  ...            ...            ...   \n",
      "28951    0.000000    0.000000    0.000000  ...       0.169754       0.288630   \n",
      "28952   -0.359420   -0.359420    0.000000  ...       0.404066       0.359071   \n",
      "28953    0.000000    0.000000    0.000000  ...       0.179925      -0.317550   \n",
      "28954    0.197021    0.000000    0.000000  ...       0.330574       0.231517   \n",
      "28955   -0.416887   -0.097038   -0.758734  ...       0.360270       0.515474   \n",
      "\n",
      "       96-100K_count  96-100F_count  96-100P_count  96-100S_count  \\\n",
      "0          -0.405807      -0.085469      -0.148977      -0.355685   \n",
      "1          -0.220748      -0.366460      -0.442623      -0.197822   \n",
      "2          -0.140249      -0.058573      -0.247289      -0.110863   \n",
      "3          -0.237312       0.000377      -0.166300      -0.090535   \n",
      "4          -0.385347      -0.372753       0.156395       0.191043   \n",
      "...              ...            ...            ...            ...   \n",
      "28951      -0.296540      -0.159696      -0.163576      -0.091741   \n",
      "28952      -0.418689      -0.005251      -0.219879       0.018007   \n",
      "28953      -0.378923       0.017652      -0.237142      -0.041215   \n",
      "28954      -0.276223      -0.121937      -0.095757       0.077378   \n",
      "28955      -0.533524       0.014227      -0.062765      -0.049648   \n",
      "\n",
      "       96-100T_count  96-100W_count  96-100V_count  sim_ratio  \n",
      "0           0.203891      -0.510520       0.431877   0.086253  \n",
      "1           0.214286      -0.442623       0.014925   0.082278  \n",
      "2           0.333557      -0.636214       0.194272   0.060721  \n",
      "3           0.428879      -0.411451       0.129403   0.122034  \n",
      "4           0.496224      -0.422317       0.350977   0.027009  \n",
      "...              ...            ...            ...        ...  \n",
      "28951       0.094059      -0.107972       0.305210   0.069085  \n",
      "28952       0.325099      -0.521904       0.266806   0.064128  \n",
      "28953       0.179925       0.070218       0.146351   0.126582  \n",
      "28954       0.301531      -0.685856       0.321165   0.083467  \n",
      "28955       0.315197       0.076659       0.244194   0.056437  \n",
      "\n",
      "[28956 rows x 341 columns]\n"
     ]
    }
   ],
   "source": [
    "print(selected_data)"
   ]
  },
  {
   "cell_type": "code",
   "execution_count": 74,
   "id": "ebea46c2",
   "metadata": {},
   "outputs": [],
   "source": [
    "with open('/Users/patricknaylor/Desktop/kaggle/kaggle-NOVO/data/col_7.csv', 'w') as f:\n",
    "    for line in cor_columns:\n",
    "        f.write(f'{line}\\n')\n",
    "\n"
   ]
  },
  {
   "cell_type": "code",
   "execution_count": null,
   "id": "e287e0cd",
   "metadata": {},
   "outputs": [],
   "source": []
  },
  {
   "cell_type": "code",
   "execution_count": null,
   "id": "b421c315",
   "metadata": {},
   "outputs": [],
   "source": []
  }
 ],
 "metadata": {
  "kernelspec": {
   "display_name": "Python 3 (ipykernel)",
   "language": "python",
   "name": "python3"
  },
  "language_info": {
   "codemirror_mode": {
    "name": "ipython",
    "version": 3
   },
   "file_extension": ".py",
   "mimetype": "text/x-python",
   "name": "python",
   "nbconvert_exporter": "python",
   "pygments_lexer": "ipython3",
   "version": "3.10.6"
  }
 },
 "nbformat": 4,
 "nbformat_minor": 5
}
