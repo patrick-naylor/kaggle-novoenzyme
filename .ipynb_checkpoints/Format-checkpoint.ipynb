{
 "cells": [
  {
   "cell_type": "code",
   "execution_count": 70,
   "id": "841398ad",
   "metadata": {},
   "outputs": [],
   "source": [
    "import numpy as np\n",
    "import pandas as pd\n",
    "from difflib import SequenceMatcher\n",
    "from functools import partial"
   ]
  },
  {
   "cell_type": "code",
   "execution_count": 71,
   "id": "7c30a068",
   "metadata": {},
   "outputs": [],
   "source": [
    "df = pd.read_csv('/Users/patricknaylor/Desktop/kaggle/kaggle-NOVO/data/train.csv')\n",
    "corr = pd.read_csv('/Users/patricknaylor/Desktop/kaggle/kaggle-NOVO/data/train_updates_20220929.csv')\n",
    "corr_ids = list(corr['seq_id'])\n",
    "df = df[~df['seq_id'].isin(corr_ids)]"
   ]
  },
  {
   "cell_type": "code",
   "execution_count": 72,
   "id": "ea194d31",
   "metadata": {},
   "outputs": [
    {
     "name": "stdout",
     "output_type": "stream",
     "text": [
      "   seq_id                                   protein_sequence   pH  \\\n",
      "0       0  AAAAKAAALALLGEAPEVVDIWLPAGWRQPFRVFRLERKGDGVLVG...  7.0   \n",
      "1       1  AAADGEPLHNEEERAGAGQVGRSLPQESEEQRTGSRPRRRRDLGSR...  7.0   \n",
      "2       2  AAAFSTPRATSYRILSSAGSGSTRADAPQVRRLHTTRDLLAKDYYA...  7.0   \n",
      "3       3  AAASGLRTAIPAQPLRHLLQPAPRPCLRPFGLLSVRAGSARRSGLL...  7.0   \n",
      "4       4  AAATKSGPRRQSQGASVRTFTPFYFLVEPVDTLSVRGSSVILNCSA...  7.0   \n",
      "\n",
      "                         data_source    tm  \n",
      "0  doi.org/10.1038/s41592-020-0801-4  75.7  \n",
      "1  doi.org/10.1038/s41592-020-0801-4  50.5  \n",
      "2  doi.org/10.1038/s41592-020-0801-4  40.5  \n",
      "3  doi.org/10.1038/s41592-020-0801-4  47.2  \n",
      "4  doi.org/10.1038/s41592-020-0801-4  49.5  \n"
     ]
    }
   ],
   "source": [
    "wild_type = 'VPVNPEPDATSVENVALKTGSGDSQSDPIKADLEVKGQSALPFDVDCWAILCKGAPNVLQRVNEKTKNSNRDRSGANKGPFKDPQKWGIKALPPKNPSWSAQDFKSPEEYAFASSLQGGTNAILAPVNLASQNSQGGVLNGFYSANKVAQFDPSKPQQTKGTWFQITKFTGAAGPYCKALGSNDKSVCDKNKNIAGDWGFDPAKWAYQYDEKNNKFNYVGK'\n",
    "print(df.head())\n",
    "letters = ['A', 'R', 'N', 'D', 'C', 'E', 'Q', 'G', 'H', 'I', 'L', 'K', 'M', 'F', 'P', 'S', 'T', 'W', 'Y', 'V']"
   ]
  },
  {
   "cell_type": "code",
   "execution_count": 73,
   "id": "64159d1e",
   "metadata": {},
   "outputs": [],
   "source": [
    "def similar(s, c, w, b, side=None): \n",
    "    if side == 'start':\n",
    "        return SequenceMatcher(None, s[c][:b], w).ratio()\n",
    "    elif side == 'end':\n",
    "        return SequenceMatcher(None, s[c][-b:], w).ratio()\n",
    "    elif side == None:\n",
    "        return SequenceMatcher(None, s[c][:], w).ratio()\n",
    "    else:\n",
    "        raise ValueError('side must be `start`, `end`, or None')\n",
    "        \n",
    "def match_columns(wild, train):\n",
    "    bounds = [1, 3, 5, 15, 30]\n",
    "    for bound in bounds:\n",
    "        start_wild = wild[:bound]\n",
    "        end_wild = wild[-bound:]\n",
    "        train[f'first{bound}'] = train.apply(partial(similar, c='protein_sequence', w=start_wild, b=bound, side='start'), axis=1)\n",
    "        train[f'last{bound}'] = train.apply(partial(similar, c='protein_sequence', w=start_wild, b=bound, side='end'), axis=1)\n",
    "    train['sim_ratio'] = train.apply(partial(similar, c='protein_sequence', w=start_wild, b=bound), axis=1)\n",
    "    return train\n",
    "\n",
    "def tenth_strings(s, c, num, tenth):\n",
    "    return s[c][num*s[tenth] : (num+1)*s[tenth]]\n",
    "\n",
    "def tenths_letters(train, letters):\n",
    "    col = train['protein_sequence']\n",
    "    length = len(col)\n",
    "    tenths = [int((length/25)*(x+1)) for x in range(25)]\n",
    "    tenth_list = []\n",
    "    for idx, ten in enumerate(tenths):\n",
    "        col_tenth = col[idx:ten]\n",
    "        col_dict = {}\n",
    "        for letter in col_tenth:\n",
    "            if letter in col_dict:\n",
    "                col_dict[letter] += 1\n",
    "            else:\n",
    "                col_dict[letter] = 1\n",
    "        for letter in letters:\n",
    "            if letter not in col_dict:\n",
    "                col_dict[letter] = 0\n",
    "        for key, value in col_dict.items():\n",
    "            col_dict[key] = value/(length/25)\n",
    "        tenth_list.append(col_dict)\n",
    "    labels = np.arange(0, 104, 4)\n",
    "    for idx, (t, w) in enumerate(zip(tenth_list, wild_list)):\n",
    "        for l in letters:\n",
    "            train[f'{labels[idx]}-{labels[idx+1]}{l}_count'] = t[l] - w[l]\n",
    "    return train\n",
    "        \n",
    "    \n",
    "        \n",
    "        "
   ]
  },
  {
   "cell_type": "code",
   "execution_count": 74,
   "id": "5c24e8fc",
   "metadata": {},
   "outputs": [],
   "source": [
    "df['seq_len'] = df['protein_sequence'].str.len()\n",
    "df['seq_len_norm'] = df['seq_len']/df['seq_len'].max()"
   ]
  },
  {
   "cell_type": "code",
   "execution_count": 75,
   "id": "3debf827",
   "metadata": {},
   "outputs": [],
   "source": [
    "df['len_tenth'] = df['seq_len']//25\n",
    "wild_tenth = len(wild_type)//25\n",
    "wild_tenths = []\n",
    "tenth_labels = []\n",
    "labels = np.arange(0, 25)\n",
    "for label in labels:\n",
    "    df[f'{label}_tenth_str'] = df.apply(partial(tenth_strings, c='protein_sequence', num=label, tenth='len_tenth'), axis=1)\n",
    "    tenth_labels.append(f'{label}_tenth_str')\n",
    "    wild_tenths.append(wild_type[label*wild_tenth: (label+1)*wild_tenth])\n",
    "    \n",
    "for lab, wild in zip(tenth_labels, wild_tenths):\n",
    "    df[f'{lab}_match'] = df.apply(partial(similar, c=lab, w=wild, b=0, side=None), axis=1)"
   ]
  },
  {
   "cell_type": "code",
   "execution_count": 76,
   "id": "b4d8a10d",
   "metadata": {},
   "outputs": [],
   "source": [
    "col = wild_type\n",
    "length = len(col)\n",
    "tenths = [int((length/25)*(x+1)) for x in range(25)]\n",
    "wild_list = []\n",
    "for idx, ten in enumerate(tenths):\n",
    "    col_tenth = col[idx:ten]\n",
    "    col_dict = {}\n",
    "    for letter in col_tenth:\n",
    "        if letter in col_dict:\n",
    "            col_dict[letter] += 1\n",
    "        else:\n",
    "            col_dict[letter] = 1\n",
    "    for letter in letters:\n",
    "        if letter not in col_dict:\n",
    "            col_dict[letter] = 0\n",
    "    for key, value in col_dict.items():\n",
    "        col_dict[key] = value/(length/25)\n",
    "    wild_list.append(col_dict)"
   ]
  },
  {
   "cell_type": "code",
   "execution_count": 77,
   "id": "ae465b89",
   "metadata": {},
   "outputs": [],
   "source": [
    "df = df.apply(partial(tenths_letters, letters=letters), axis=1)"
   ]
  },
  {
   "cell_type": "code",
   "execution_count": 78,
   "id": "a73f9338",
   "metadata": {},
   "outputs": [],
   "source": [
    "df = match_columns(wild_type, df)"
   ]
  },
  {
   "cell_type": "code",
   "execution_count": 79,
   "id": "d528729b",
   "metadata": {},
   "outputs": [],
   "source": [
    "df['rel_stab'] = df['tm']/df['tm'].max()"
   ]
  },
  {
   "cell_type": "code",
   "execution_count": 80,
   "id": "bdbfc06f",
   "metadata": {},
   "outputs": [],
   "source": [
    "rel_stab = df['rel_stab']"
   ]
  },
  {
   "cell_type": "code",
   "execution_count": 86,
   "id": "b4875849",
   "metadata": {},
   "outputs": [],
   "source": [
    "removals = ['seq_id', 'protein_sequence', 'pH', 'data_source', 'tm', 'seq_len', 'len_tenth', '0_tenth_str', '1_tenth_str', '2_tenth_str', '3_tenth_str', '4_tenth_str', '5_tenth_str', '6_tenth_str', '7_tenth_str', '8_tenth_str', '9_tenth_str', 'rel_stab']\n",
    "for col in columns:\n",
    "    if col[-3:] == 'str':\n",
    "        removals.append(col)\n",
    "df = df.drop(removals, axis=1)"
   ]
  },
  {
   "cell_type": "code",
   "execution_count": 88,
   "id": "5bc0ea07",
   "metadata": {},
   "outputs": [],
   "source": [
    "df.to_csv('/Users/patricknaylor/Desktop/kaggle/kaggle-NOVO/data/variables_2.csv')\n",
    "rel_stab.to_csv('/Users/patricknaylor/Desktop/kaggle/kaggle-NOVO/data/target.csv')"
   ]
  },
  {
   "cell_type": "code",
   "execution_count": null,
   "id": "8b13eda0",
   "metadata": {},
   "outputs": [],
   "source": []
  }
 ],
 "metadata": {
  "kernelspec": {
   "display_name": "Python 3 (ipykernel)",
   "language": "python",
   "name": "python3"
  },
  "language_info": {
   "codemirror_mode": {
    "name": "ipython",
    "version": 3
   },
   "file_extension": ".py",
   "mimetype": "text/x-python",
   "name": "python",
   "nbconvert_exporter": "python",
   "pygments_lexer": "ipython3",
   "version": "3.10.6"
  }
 },
 "nbformat": 4,
 "nbformat_minor": 5
}
