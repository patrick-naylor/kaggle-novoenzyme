{
 "cells": [
  {
   "cell_type": "code",
   "execution_count": 33,
   "id": "841398ad",
   "metadata": {},
   "outputs": [],
   "source": [
    "import numpy as np\n",
    "import pandas as pd\n",
    "from difflib import SequenceMatcher\n",
    "from functools import partial"
   ]
  },
  {
   "cell_type": "code",
   "execution_count": 34,
   "id": "7c30a068",
   "metadata": {},
   "outputs": [],
   "source": [
    "df = pd.read_csv('/Users/patricknaylor/Desktop/kaggle/kaggle-NOVO/data/train.csv')\n",
    "corr = pd.read_csv('/Users/patricknaylor/Desktop/kaggle/kaggle-NOVO/data/train_updates_20220929.csv')\n",
    "corr_ids = list(corr['seq_id'])\n",
    "df = df[~df['seq_id'].isin(corr_ids)]"
   ]
  },
  {
   "cell_type": "code",
   "execution_count": 35,
   "id": "ea194d31",
   "metadata": {},
   "outputs": [
    {
     "name": "stdout",
     "output_type": "stream",
     "text": [
      "   seq_id                                   protein_sequence   pH  \\\n",
      "0       0  AAAAKAAALALLGEAPEVVDIWLPAGWRQPFRVFRLERKGDGVLVG...  7.0   \n",
      "1       1  AAADGEPLHNEEERAGAGQVGRSLPQESEEQRTGSRPRRRRDLGSR...  7.0   \n",
      "2       2  AAAFSTPRATSYRILSSAGSGSTRADAPQVRRLHTTRDLLAKDYYA...  7.0   \n",
      "3       3  AAASGLRTAIPAQPLRHLLQPAPRPCLRPFGLLSVRAGSARRSGLL...  7.0   \n",
      "4       4  AAATKSGPRRQSQGASVRTFTPFYFLVEPVDTLSVRGSSVILNCSA...  7.0   \n",
      "\n",
      "                         data_source    tm  \n",
      "0  doi.org/10.1038/s41592-020-0801-4  75.7  \n",
      "1  doi.org/10.1038/s41592-020-0801-4  50.5  \n",
      "2  doi.org/10.1038/s41592-020-0801-4  40.5  \n",
      "3  doi.org/10.1038/s41592-020-0801-4  47.2  \n",
      "4  doi.org/10.1038/s41592-020-0801-4  49.5  \n"
     ]
    }
   ],
   "source": [
    "wild_type = 'VPVNPEPDATSVENVALKTGSGDSQSDPIKADLEVKGQSALPFDVDCWAILCKGAPNVLQRVNEKTKNSNRDRSGANKGPFKDPQKWGIKALPPKNPSWSAQDFKSPEEYAFASSLQGGTNAILAPVNLASQNSQGGVLNGFYSANKVAQFDPSKPQQTKGTWFQITKFTGAAGPYCKALGSNDKSVCDKNKNIAGDWGFDPAKWAYQYDEKNNKFNYVGK'\n",
    "print(df.head())\n",
    "letters = ['A', 'R', 'N', 'D', 'C', 'E', 'Q', 'G', 'H', 'I', 'L', 'K', 'M', 'F', 'P', 'S', 'T', 'W', 'Y', 'V']"
   ]
  },
  {
   "cell_type": "code",
   "execution_count": 43,
   "id": "64159d1e",
   "metadata": {},
   "outputs": [],
   "source": [
    "def similar(s, c, w, b, side=None): \n",
    "    if side == 'start':\n",
    "        return SequenceMatcher(None, s[c][:b], w).ratio()\n",
    "    elif side == 'end':\n",
    "        return SequenceMatcher(None, s[c][-b:], w).ratio()\n",
    "    elif side == None:\n",
    "        return SequenceMatcher(None, s[c][:], w).ratio()\n",
    "    else:\n",
    "        raise ValueError('side must be `start`, `end`, or None')\n",
    "        \n",
    "def match_columns(wild, train):\n",
    "    bounds = [1, 3, 5, 15, 30]\n",
    "    for bound in bounds:\n",
    "        start_wild = wild[:bound]\n",
    "        end_wild = wild[-bound:]\n",
    "        train[f'first{bound}'] = train.apply(partial(similar, c='protein_sequence', w=start_wild, b=bound, side='start'), axis=1)\n",
    "        train[f'last{bound}'] = train.apply(partial(similar, c='protein_sequence', w=start_wild, b=bound, side='end'), axis=1)\n",
    "    train['sim_ratio'] = train.apply(partial(similar, c='protein_sequence', w=start_wild, b=bound), axis=1)\n",
    "    return train\n",
    "\n",
    "def tenth_strings(s, c, num, tenth):\n",
    "    return s[c][num*s[tenth] : (num+1)*s[tenth]]\n",
    "\n",
    "def tenths_letters(train, letters):\n",
    "    col = train['protein_sequence']\n",
    "    length = len(col)\n",
    "    tenths = [int((length/10)*(x+1)) for x in range(10)]\n",
    "    tenth_list = []\n",
    "    for idx, ten in enumerate(tenths):\n",
    "        col_tenth = col[idx:ten]\n",
    "        col_dict = {}\n",
    "        for letter in col_tenth:\n",
    "            if letter in col_dict:\n",
    "                col_dict[letter] += 1\n",
    "            else:\n",
    "                col_dict[letter] = 1\n",
    "        for letter in letters:\n",
    "            if letter not in col_dict:\n",
    "                col_dict[letter] = 0\n",
    "        for key, value in col_dict.items():\n",
    "            col_dict[key] = value/(length/10)\n",
    "        tenth_list.append(col_dict)\n",
    "    labels = np.arange(0, 110, 10)\n",
    "    for idx, (t, w) in enumerate(zip(tenth_list, wild_list)):\n",
    "        for l in letters:\n",
    "            train[f'{labels[idx]}-{labels[idx+1]}{l}_count'] = t[l] - w[l]\n",
    "    return train\n",
    "        \n",
    "    \n",
    "        \n",
    "        "
   ]
  },
  {
   "cell_type": "code",
   "execution_count": 37,
   "id": "cdadf351",
   "metadata": {},
   "outputs": [],
   "source": [
    "df['seq_len'] = df['protein_sequence'].str.len()\n",
    "df['seq_len_norm'] = df['seq_len']/df['seq_len'].max()"
   ]
  },
  {
   "cell_type": "code",
   "execution_count": 38,
   "id": "5a5501e7",
   "metadata": {},
   "outputs": [],
   "source": [
    "df['len_tenth'] = df['seq_len']//10\n",
    "wild_tenth = len(wild_type)//10\n",
    "wild_tenths = []\n",
    "tenth_labels = []\n",
    "labels = np.arange(0, 10)\n",
    "for label in labels:\n",
    "    df[f'{label}_tenth_str'] = df.apply(partial(tenth_strings, c='protein_sequence', num=label, tenth='len_tenth'), axis=1)\n",
    "    tenth_labels.append(f'{label}_tenth_str')\n",
    "    wild_tenths.append(wild_type[label*wild_tenth: (label+1)*wild_tenth])\n",
    "    \n",
    "for lab, wild in zip(tenth_labels, wild_tenths):\n",
    "    df[f'{lab}_match'] = df.apply(partial(similar, c=lab, w=wild, b=0, side=None), axis=1)"
   ]
  },
  {
   "cell_type": "code",
   "execution_count": 39,
   "id": "16c3c834",
   "metadata": {},
   "outputs": [],
   "source": [
    "col = wild_type\n",
    "length = len(col)\n",
    "tenths = [int((length/10)*(x+1)) for x in range(10)]\n",
    "wild_list = []\n",
    "for idx, ten in enumerate(tenths):\n",
    "    col_tenth = col[idx:ten]\n",
    "    col_dict = {}\n",
    "    for letter in col_tenth:\n",
    "        if letter in col_dict:\n",
    "            col_dict[letter] += 1\n",
    "        else:\n",
    "            col_dict[letter] = 1\n",
    "    for letter in letters:\n",
    "        if letter not in col_dict:\n",
    "            col_dict[letter] = 0\n",
    "    for key, value in col_dict.items():\n",
    "        col_dict[key] = value/(length/10)\n",
    "    wild_list.append(col_dict)"
   ]
  },
  {
   "cell_type": "code",
   "execution_count": null,
   "id": "ae465b89",
   "metadata": {},
   "outputs": [],
   "source": [
    "df = df.apply(partial(tenths_letters, letters=letters), axis=1)"
   ]
  },
  {
   "cell_type": "code",
   "execution_count": null,
   "id": "a73f9338",
   "metadata": {},
   "outputs": [],
   "source": [
    "df = match_columns(wild_type, df)"
   ]
  },
  {
   "cell_type": "code",
   "execution_count": null,
   "id": "d528729b",
   "metadata": {},
   "outputs": [],
   "source": [
    "df['rel_stab'] = df['tm']/df['tm'].max()"
   ]
  },
  {
   "cell_type": "code",
   "execution_count": null,
   "id": "4d42cebc",
   "metadata": {},
   "outputs": [],
   "source": [
    "print(df['seq_list'])"
   ]
  },
  {
   "cell_type": "code",
   "execution_count": 41,
   "id": "6a6e395c",
   "metadata": {},
   "outputs": [
    {
     "name": "stdout",
     "output_type": "stream",
     "text": [
      "       seq_id                                   protein_sequence   pH  \\\n",
      "0           0  AAAAKAAALALLGEAPEVVDIWLPAGWRQPFRVFRLERKGDGVLVG...  7.0   \n",
      "1           1  AAADGEPLHNEEERAGAGQVGRSLPQESEEQRTGSRPRRRRDLGSR...  7.0   \n",
      "2           2  AAAFSTPRATSYRILSSAGSGSTRADAPQVRRLHTTRDLLAKDYYA...  7.0   \n",
      "3           3  AAASGLRTAIPAQPLRHLLQPAPRPCLRPFGLLSVRAGSARRSGLL...  7.0   \n",
      "4           4  AAATKSGPRRQSQGASVRTFTPFYFLVEPVDTLSVRGSSVILNCSA...  7.0   \n",
      "...       ...                                                ...  ...   \n",
      "31385   31385  YYMYSGGGSALAAGGGGAGRKGDWNDIDSIKKKDLHHSRGDEKAQG...  7.0   \n",
      "31386   31386  YYNDQHRLSSYSVETAMFLSWERAIVKPGAMFKKAVIGFNCNVDLI...  7.0   \n",
      "31387   31387  YYQRTLGAELLYKISFGEMPKSAQDSAENCPSGMQFPDTAIAHANV...  7.0   \n",
      "31388   31388  YYSFSDNITTVFLSRQAIDDDHSLSLGTISDVVESENGVVAADDAR...  7.0   \n",
      "31389   31389  YYVPDEYWQSLEVAHKLTFGYGYLTWEWVQGIRSYVYPLLIAGLYK...  7.0   \n",
      "\n",
      "                             data_source    tm  seq_len  seq_len_norm  \\\n",
      "0      doi.org/10.1038/s41592-020-0801-4  75.7      341      0.038759   \n",
      "1      doi.org/10.1038/s41592-020-0801-4  50.5      286      0.032507   \n",
      "2      doi.org/10.1038/s41592-020-0801-4  40.5      497      0.056490   \n",
      "3      doi.org/10.1038/s41592-020-0801-4  47.2      265      0.030120   \n",
      "4      doi.org/10.1038/s41592-020-0801-4  49.5     1451      0.164924   \n",
      "...                                  ...   ...      ...           ...   \n",
      "31385  doi.org/10.1038/s41592-020-0801-4  51.8      549      0.062401   \n",
      "31386  doi.org/10.1038/s41592-020-0801-4  37.2      469      0.053308   \n",
      "31387  doi.org/10.1038/s41592-020-0801-4  64.6      128      0.014549   \n",
      "31388  doi.org/10.1038/s41592-020-0801-4  50.7      593      0.067402   \n",
      "31389  doi.org/10.1038/s41592-020-0801-4  37.6      537      0.061037   \n",
      "\n",
      "       len_tenth                                        0_tenth_str  \\\n",
      "0             34                 AAAAKAAALALLGEAPEVVDIWLPAGWRQPFRVF   \n",
      "1             28                       AAADGEPLHNEEERAGAGQVGRSLPQES   \n",
      "2             49  AAAFSTPRATSYRILSSAGSGSTRADAPQVRRLHTTRDLLAKDYYATLG   \n",
      "3             26                         AAASGLRTAIPAQPLRHLLQPAPRPC   \n",
      "4            145  AAATKSGPRRQSQGASVRTFTPFYFLVEPVDTLSVRGSSVILNCSA...   \n",
      "...          ...                                                ...   \n",
      "31385         54  YYMYSGGGSALAAGGGGAGRKGDWNDIDSIKKKDLHHSRGDEKAQG...   \n",
      "31386         46     YYNDQHRLSSYSVETAMFLSWERAIVKPGAMFKKAVIGFNCNVDLI   \n",
      "31387         12                                       YYQRTLGAELLY   \n",
      "31388         59  YYSFSDNITTVFLSRQAIDDDHSLSLGTISDVVESENGVVAADDAR...   \n",
      "31389         53  YYVPDEYWQSLEVAHKLTFGYGYLTWEWVQGIRSYVYPLLIAGLYK...   \n",
      "\n",
      "                                             1_tenth_str  ...  \\\n",
      "0                     RLERKGDGVLVGMIKDAGDDPDVTHGAEIQAFVR  ...   \n",
      "1                           EEQRTGSRPRRRRDLGSRLQAQRRAQRV  ...   \n",
      "2      VAKNANGKDIKKAYYQLAKKYHPDTNKEDPDAGRKFQEVSEAYEVLSDE  ...   \n",
      "3                             LRPFGLLSVRAGSARRSGLLQPPVPC  ...   \n",
      "4      NADLVPFVRWEQNRQPLLLDDRIVKLPSGTLVISNATEGDGGLYRC...  ...   \n",
      "...                                                  ...  ...   \n",
      "31385  VRWPDFNQEAYVGGTMVRSGQDPYARNKFNQVESDKLHMDRGIPDT...  ...   \n",
      "31386     VSGVRVVDALNTTCSEGKDQETLETLADLHQTFAHFFQRGAAAERY  ...   \n",
      "31387                                       KISFGEMPKSAQ  ...   \n",
      "31388  HAVDAAVAITLCVGVVNPMSSGIGGGSFLIVSSQKDSKAEAFDMRE...  ...   \n",
      "31389  DSAHLLVVLPRIVQALLSAYSDYRFFVWTGKRKWALFLILVPWFWF...  ...   \n",
      "\n",
      "      0_tenth_str_match 1_tenth_str_match 2_tenth_str_match 3_tenth_str_match  \\\n",
      "0              0.178571          0.178571          0.178571          0.142857   \n",
      "1              0.200000          0.320000          0.320000          0.240000   \n",
      "2              0.225352          0.309859          0.140845          0.225352   \n",
      "3              0.166667          0.125000          0.250000          0.208333   \n",
      "4              0.143713          0.155689          0.071856          0.071856   \n",
      "...                 ...               ...               ...               ...   \n",
      "31385          0.052632          0.105263          0.157895          0.157895   \n",
      "31386          0.235294          0.235294          0.058824          0.176471   \n",
      "31387          0.176471          0.235294          0.176471          0.176471   \n",
      "31388          0.222222          0.246914          0.222222          0.148148   \n",
      "31389          0.266667          0.213333          0.186667          0.133333   \n",
      "\n",
      "      4_tenth_str_match 5_tenth_str_match 6_tenth_str_match 7_tenth_str_match  \\\n",
      "0              0.214286          0.250000          0.285714          0.250000   \n",
      "1              0.120000          0.120000          0.200000          0.240000   \n",
      "2              0.169014          0.225352          0.169014          0.169014   \n",
      "3              0.166667          0.125000          0.208333          0.250000   \n",
      "4              0.059880          0.155689          0.119760          0.035928   \n",
      "...                 ...               ...               ...               ...   \n",
      "31385          0.157895          0.263158          0.210526          0.105263   \n",
      "31386          0.235294          0.176471          0.176471          0.205882   \n",
      "31387          0.294118          0.411765          0.176471          0.235294   \n",
      "31388          0.246914          0.123457          0.246914          0.222222   \n",
      "31389          0.240000          0.293333          0.213333          0.160000   \n",
      "\n",
      "       8_tenth_str_match  9_tenth_str_match  \n",
      "0               0.214286           0.214286  \n",
      "1               0.160000           0.160000  \n",
      "2               0.169014           0.169014  \n",
      "3               0.250000           0.208333  \n",
      "4               0.143713           0.131737  \n",
      "...                  ...                ...  \n",
      "31385           0.236842           0.236842  \n",
      "31386           0.147059           0.147059  \n",
      "31387           0.117647           0.294118  \n",
      "31388           0.172840           0.172840  \n",
      "31389           0.106667           0.213333  \n",
      "\n",
      "[28956 rows x 28 columns]\n"
     ]
    }
   ],
   "source": [
    "print(df)"
   ]
  },
  {
   "cell_type": "code",
   "execution_count": null,
   "id": "1910e731",
   "metadata": {},
   "outputs": [],
   "source": []
  }
 ],
 "metadata": {
  "kernelspec": {
   "display_name": "Python 3 (ipykernel)",
   "language": "python",
   "name": "python3"
  },
  "language_info": {
   "codemirror_mode": {
    "name": "ipython",
    "version": 3
   },
   "file_extension": ".py",
   "mimetype": "text/x-python",
   "name": "python",
   "nbconvert_exporter": "python",
   "pygments_lexer": "ipython3",
   "version": "3.10.6"
  }
 },
 "nbformat": 4,
 "nbformat_minor": 5
}
