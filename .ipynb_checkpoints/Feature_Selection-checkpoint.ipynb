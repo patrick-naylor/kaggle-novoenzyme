{
 "cells": [
  {
   "cell_type": "code",
   "execution_count": 40,
   "id": "d4de12cb",
   "metadata": {},
   "outputs": [],
   "source": [
    "import numpy as np\n",
    "import pandas as pd\n",
    "from difflib import SequenceMatcher\n",
    "from functools import partial\n",
    "from sklearn.feature_selection import GenericUnivariateSelect, chi2, r_regression\n",
    "from scipy.stats import spearmanr"
   ]
  },
  {
   "cell_type": "code",
   "execution_count": 41,
   "id": "510eda09",
   "metadata": {},
   "outputs": [
    {
     "name": "stdout",
     "output_type": "stream",
     "text": [
      "(array([1.        , 1.28571429, 0.2       , 0.4       , 0.33333333,\n",
      "       1.        ]), array([0.31731051, 0.25683926, 0.65472085, 0.52708926, 0.56370286,\n",
      "       0.31731051]))\n"
     ]
    }
   ],
   "source": [
    "a = np.array([[1, 2, 3, 4, 5, 6], [3, 5, 2, 6, 7, 3]])\n",
    "b = np.array([4, 3])\n",
    "print(chi2(a, b))"
   ]
  },
  {
   "cell_type": "code",
   "execution_count": 42,
   "id": "41cd9f87",
   "metadata": {},
   "outputs": [],
   "source": [
    "df = pd.read_csv('/Users/patricknaylor/Desktop/kaggle/kaggle-NOVO/data/variables_1.csv')\n",
    "target = pd.read_csv('/Users/patricknaylor/Desktop/kaggle/kaggle-NOVO/data/target.csv')\n",
    "var_arr = np.array(df)[:,1:]\n",
    "target_arr = np.array(target)[:, 1]"
   ]
  },
  {
   "cell_type": "code",
   "execution_count": null,
   "id": "068be09e",
   "metadata": {},
   "outputs": [],
   "source": [
    "print(var_arr.shape)\n",
    "print(target_arr.shape)\n",
    "selection = r_regression(var_arr, target_arr)\n",
    "features = pd.DataFrame(list(zip(df.columns[1:], selection)), columns=['feature', 'r-score'])\n",
    "features.set_index('feature')"
   ]
  },
  {
   "cell_type": "code",
   "execution_count": null,
   "id": "95eb9734",
   "metadata": {},
   "outputs": [],
   "source": [
    "features.sort_values(by='r-score', key=lambda col: col.abs(), ascending=False)"
   ]
  },
  {
   "cell_type": "code",
   "execution_count": 52,
   "id": "2276f151",
   "metadata": {},
   "outputs": [],
   "source": [
    "cor_columns = list(features[features['r-score'].abs() >.1]['feature'])"
   ]
  },
  {
   "cell_type": "code",
   "execution_count": 54,
   "id": "028ae2c9",
   "metadata": {},
   "outputs": [],
   "source": [
    "selected_data = df[cor_columns]"
   ]
  },
  {
   "cell_type": "code",
   "execution_count": null,
   "id": "8a717ac9",
   "metadata": {},
   "outputs": [],
   "source": []
  }
 ],
 "metadata": {
  "kernelspec": {
   "display_name": "Python 3 (ipykernel)",
   "language": "python",
   "name": "python3"
  },
  "language_info": {
   "codemirror_mode": {
    "name": "ipython",
    "version": 3
   },
   "file_extension": ".py",
   "mimetype": "text/x-python",
   "name": "python",
   "nbconvert_exporter": "python",
   "pygments_lexer": "ipython3",
   "version": "3.10.6"
  }
 },
 "nbformat": 4,
 "nbformat_minor": 5
}
