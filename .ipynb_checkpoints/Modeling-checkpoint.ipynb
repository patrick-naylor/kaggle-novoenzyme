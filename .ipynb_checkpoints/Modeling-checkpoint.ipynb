{
 "cells": [
  {
   "cell_type": "code",
   "execution_count": 13,
   "id": "150ec8a0",
   "metadata": {},
   "outputs": [],
   "source": [
    "import numpy as np\n",
    "import pandas as pd\n",
    "from sklearn.model_selection import train_test_split\n",
    "from sklearn.linear_model import Ridge\n",
    "from scipy.stats import spearmanr\n",
    "from sklearn.svm import SVR\n",
    "from sklearn.ensemble import AdaBoostRegressor"
   ]
  },
  {
   "cell_type": "code",
   "execution_count": 40,
   "id": "d0c8fffe",
   "metadata": {},
   "outputs": [],
   "source": [
    "df = pd.read_csv('/Users/patricknaylor/Desktop/kaggle/kaggle-NOVO/data/selected_vars_2.csv')\n",
    "target = pd.read_csv('/Users/patricknaylor/Desktop/kaggle/kaggle-NOVO/data/target.csv')\n",
    "X = np.array(df)[:,1:]\n",
    "y = np.array(target)[:, 1]\n"
   ]
  },
  {
   "cell_type": "code",
   "execution_count": 41,
   "id": "a1a2774e",
   "metadata": {},
   "outputs": [],
   "source": [
    "X_train, X_test, y_train, y_test = train_test_split(X, y, test_size=.25)\n"
   ]
  },
  {
   "cell_type": "code",
   "execution_count": 42,
   "id": "073ec7ba",
   "metadata": {},
   "outputs": [
    {
     "name": "stdout",
     "output_type": "stream",
     "text": [
      "SpearmanrResult(correlation=0.3310478991578341, pvalue=0.0)\n",
      "SpearmanrResult(correlation=0.32543046696145334, pvalue=3.4753483330167977e-178)\n"
     ]
    }
   ],
   "source": [
    "\n",
    "rid = Ridge()\n",
    "regr = AdaBoostRegressor(rid, n_estimators=100)\n",
    "regr.fit(X_train, y_train)\n",
    "train_pred = regr.predict(X_train)\n",
    "test_pred = regr.predict(X_test)\n",
    "print(spearmanr(train_pred, y_train))\n",
    "print(spearmanr(test_pred, y_test))"
   ]
  },
  {
   "cell_type": "code",
   "execution_count": 43,
   "id": "0eac65c3",
   "metadata": {},
   "outputs": [],
   "source": [
    "test_mod = pd.read_csv('/Users/patricknaylor/Desktop/kaggle/kaggle-NOVO/data/test_1.csv')\n",
    "test = pd.read_csv('/Users/patricknaylor/Desktop/kaggle/kaggle-NOVO/data/test.csv')\n",
    "seq_id = np.array(test['seq_id'])\n",
    "columns = []\n",
    "with open('/Users/patricknaylor/Desktop/kaggle/kaggle-NOVO/data/col_1.csv', 'r') as f:\n",
    "    while True:\n",
    "        line = f.readline()\n",
    "        if not line:\n",
    "            break\n",
    "        columns.append(line.strip())"
   ]
  },
  {
   "cell_type": "code",
   "execution_count": 44,
   "id": "89aaa839",
   "metadata": {},
   "outputs": [],
   "source": [
    "\n",
    "test_selected = test_mod[columns]\n",
    "submission_pred = regr.predict(np.array(test_selected))\n"
   ]
  },
  {
   "cell_type": "code",
   "execution_count": 45,
   "id": "b59ca492",
   "metadata": {},
   "outputs": [
    {
     "name": "stdout",
     "output_type": "stream",
     "text": [
      "      seq_id        tm\n",
      "0      31390  0.430030\n",
      "1      31391  0.430287\n",
      "2      31392  0.429564\n",
      "3      31393  0.431776\n",
      "4      31394  0.437360\n",
      "...      ...       ...\n",
      "2408   33798  0.432577\n",
      "2409   33799  0.436856\n",
      "2410   33800  0.434565\n",
      "2411   33801  0.436921\n",
      "2412   33802  0.433058\n",
      "\n",
      "[2413 rows x 2 columns]\n"
     ]
    }
   ],
   "source": [
    "submission_df = pd.DataFrame({'seq_id': np.array(seq_id), 'tm': submission_pred})\n",
    "submission_df.to_csv('/Users/patricknaylor/Desktop/kaggle/kaggle-NOVO/data/sub_1.csv', index=False)\n",
    "print(submission_df)"
   ]
  },
  {
   "cell_type": "code",
   "execution_count": 46,
   "id": "1356e926",
   "metadata": {},
   "outputs": [],
   "source": [
    "sub1 = pd.read_csv('/Users/patricknaylor/Desktop/kaggle/kaggle-NOVO/data/sub_1.csv')\n",
    "sample_sub = pd.read_csv('/Users/patricknaylor/Desktop/kaggle/kaggle-NOVO/data/sample_submission.csv')            \n"
   ]
  },
  {
   "cell_type": "code",
   "execution_count": 48,
   "id": "18d48c44",
   "metadata": {},
   "outputs": [
    {
     "name": "stdout",
     "output_type": "stream",
     "text": [
      "      seq_id        tm\n",
      "0      31390  0.430030\n",
      "1      31391  0.430287\n",
      "2      31392  0.429564\n",
      "3      31393  0.431776\n",
      "4      31394  0.437360\n",
      "...      ...       ...\n",
      "2408   33798  0.432577\n",
      "2409   33799  0.436856\n",
      "2410   33800  0.434565\n",
      "2411   33801  0.436921\n",
      "2412   33802  0.433058\n",
      "\n",
      "[2413 rows x 2 columns]\n",
      "      seq_id    tm\n",
      "0      31390     0\n",
      "1      31391     1\n",
      "2      31392     2\n",
      "3      31393     3\n",
      "4      31394     4\n",
      "...      ...   ...\n",
      "2408   33798  2408\n",
      "2409   33799  2409\n",
      "2410   33800  2410\n",
      "2411   33801  2411\n",
      "2412   33802  2412\n",
      "\n",
      "[2413 rows x 2 columns]\n"
     ]
    }
   ],
   "source": [
    "print(sub1)\n",
    "print(sample_sub)"
   ]
  },
  {
   "cell_type": "code",
   "execution_count": null,
   "id": "c1cce966",
   "metadata": {},
   "outputs": [],
   "source": []
  },
  {
   "cell_type": "code",
   "execution_count": null,
   "id": "bfde745e",
   "metadata": {},
   "outputs": [],
   "source": []
  },
  {
   "cell_type": "code",
   "execution_count": null,
   "id": "f5230672",
   "metadata": {},
   "outputs": [],
   "source": []
  }
 ],
 "metadata": {
  "kernelspec": {
   "display_name": "Python 3 (ipykernel)",
   "language": "python",
   "name": "python3"
  },
  "language_info": {
   "codemirror_mode": {
    "name": "ipython",
    "version": 3
   },
   "file_extension": ".py",
   "mimetype": "text/x-python",
   "name": "python",
   "nbconvert_exporter": "python",
   "pygments_lexer": "ipython3",
   "version": "3.10.6"
  }
 },
 "nbformat": 4,
 "nbformat_minor": 5
}
