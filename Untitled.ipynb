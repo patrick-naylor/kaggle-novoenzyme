{
 "cells": [
  {
   "cell_type": "code",
   "execution_count": 143,
   "id": "cdbedb92",
   "metadata": {},
   "outputs": [],
   "source": [
    "import numpy as np\n",
    "import pandas as pd\n",
    "from difflib import SequenceMatcher\n",
    "from functools import partial"
   ]
  },
  {
   "cell_type": "code",
   "execution_count": 165,
   "id": "6193ea75",
   "metadata": {},
   "outputs": [],
   "source": [
    "df = pd.read_csv('/Users/patricknaylor/Desktop/kaggle/kaggle-NOVO/data/train.csv')\n",
    "corr = pd.read_csv('/Users/patricknaylor/Desktop/kaggle/kaggle-NOVO/data/train_updates_20220929.csv')\n",
    "corr_ids = list(corr['seq_id'])\n",
    "df = df[~df['seq_id'].isin(corr_ids)]"
   ]
  },
  {
   "cell_type": "code",
   "execution_count": 166,
   "id": "d6ea5b23",
   "metadata": {},
   "outputs": [
    {
     "name": "stdout",
     "output_type": "stream",
     "text": [
      "   seq_id                                   protein_sequence   pH  \\\n",
      "0       0  AAAAKAAALALLGEAPEVVDIWLPAGWRQPFRVFRLERKGDGVLVG...  7.0   \n",
      "1       1  AAADGEPLHNEEERAGAGQVGRSLPQESEEQRTGSRPRRRRDLGSR...  7.0   \n",
      "2       2  AAAFSTPRATSYRILSSAGSGSTRADAPQVRRLHTTRDLLAKDYYA...  7.0   \n",
      "3       3  AAASGLRTAIPAQPLRHLLQPAPRPCLRPFGLLSVRAGSARRSGLL...  7.0   \n",
      "4       4  AAATKSGPRRQSQGASVRTFTPFYFLVEPVDTLSVRGSSVILNCSA...  7.0   \n",
      "\n",
      "                         data_source    tm  \n",
      "0  doi.org/10.1038/s41592-020-0801-4  75.7  \n",
      "1  doi.org/10.1038/s41592-020-0801-4  50.5  \n",
      "2  doi.org/10.1038/s41592-020-0801-4  40.5  \n",
      "3  doi.org/10.1038/s41592-020-0801-4  47.2  \n",
      "4  doi.org/10.1038/s41592-020-0801-4  49.5  \n"
     ]
    }
   ],
   "source": [
    "wild_type = 'VPVNPEPDATSVENVALKTGSGDSQSDPIKADLEVKGQSALPFDVDCWAILCKGAPNVLQRVNEKTKNSNRDRSGANKGPFKDPQKWGIKALPPKNPSWSAQDFKSPEEYAFASSLQGGTNAILAPVNLASQNSQGGVLNGFYSANKVAQFDPSKPQQTKGTWFQITKFTGAAGPYCKALGSNDKSVCDKNKNIAGDWGFDPAKWAYQYDEKNNKFNYVGK'\n",
    "print(df.head())\n"
   ]
  },
  {
   "cell_type": "code",
   "execution_count": 167,
   "id": "175853e7",
   "metadata": {},
   "outputs": [],
   "source": [
    "def similar(s, c, w, b, side): \n",
    "    if side == 'start':\n",
    "        return SequenceMatcher(None, s[c][:b], w).ratio()\n",
    "    elif side == 'end':\n",
    "        return SequenceMatcher(None, s[c][-b:], w).ratio()\n",
    "    else:\n",
    "        raise ValueError('side must be `start` or `end`')\n",
    "        \n",
    "def match_columns(wild, train):\n",
    "    bounds = [1, 3, 5, 15, 30]\n",
    "    for bound in bounds:\n",
    "\n",
    "        start_wild = wild[:bound]\n",
    "        end_wild = wild[-bound:]\n",
    "        train[f'first{bound}'] = train.apply(partial(similar, c='protein_sequence', w=start_wild, b=bound, side='start'), axis=1)\n",
    "        train[f'last{bound}'] = train.apply(partial(similar, c='protein_sequence', w=start_wild, b=bound, side='end'), axis=1)\n",
    "    print(train)\n",
    "    return train\n",
    "        \n",
    "        "
   ]
  },
  {
   "cell_type": "code",
   "execution_count": 168,
   "id": "34599823",
   "metadata": {},
   "outputs": [
    {
     "name": "stdout",
     "output_type": "stream",
     "text": [
      "       seq_id                                   protein_sequence   pH  \\\n",
      "0           0  AAAAKAAALALLGEAPEVVDIWLPAGWRQPFRVFRLERKGDGVLVG...  7.0   \n",
      "1           1  AAADGEPLHNEEERAGAGQVGRSLPQESEEQRTGSRPRRRRDLGSR...  7.0   \n",
      "2           2  AAAFSTPRATSYRILSSAGSGSTRADAPQVRRLHTTRDLLAKDYYA...  7.0   \n",
      "3           3  AAASGLRTAIPAQPLRHLLQPAPRPCLRPFGLLSVRAGSARRSGLL...  7.0   \n",
      "4           4  AAATKSGPRRQSQGASVRTFTPFYFLVEPVDTLSVRGSSVILNCSA...  7.0   \n",
      "...       ...                                                ...  ...   \n",
      "31385   31385  YYMYSGGGSALAAGGGGAGRKGDWNDIDSIKKKDLHHSRGDEKAQG...  7.0   \n",
      "31386   31386  YYNDQHRLSSYSVETAMFLSWERAIVKPGAMFKKAVIGFNCNVDLI...  7.0   \n",
      "31387   31387  YYQRTLGAELLYKISFGEMPKSAQDSAENCPSGMQFPDTAIAHANV...  7.0   \n",
      "31388   31388  YYSFSDNITTVFLSRQAIDDDHSLSLGTISDVVESENGVVAADDAR...  7.0   \n",
      "31389   31389  YYVPDEYWQSLEVAHKLTFGYGYLTWEWVQGIRSYVYPLLIAGLYK...  7.0   \n",
      "\n",
      "                             data_source    tm  first1  last1    first3  \\\n",
      "0      doi.org/10.1038/s41592-020-0801-4  75.7     0.0    0.0  0.000000   \n",
      "1      doi.org/10.1038/s41592-020-0801-4  50.5     0.0    0.0  0.000000   \n",
      "2      doi.org/10.1038/s41592-020-0801-4  40.5     0.0    0.0  0.000000   \n",
      "3      doi.org/10.1038/s41592-020-0801-4  47.2     0.0    0.0  0.000000   \n",
      "4      doi.org/10.1038/s41592-020-0801-4  49.5     0.0    0.0  0.000000   \n",
      "...                                  ...   ...     ...    ...       ...   \n",
      "31385  doi.org/10.1038/s41592-020-0801-4  51.8     0.0    0.0  0.000000   \n",
      "31386  doi.org/10.1038/s41592-020-0801-4  37.2     0.0    0.0  0.000000   \n",
      "31387  doi.org/10.1038/s41592-020-0801-4  64.6     0.0    0.0  0.000000   \n",
      "31388  doi.org/10.1038/s41592-020-0801-4  50.7     0.0    0.0  0.000000   \n",
      "31389  doi.org/10.1038/s41592-020-0801-4  37.6     0.0    0.0  0.333333   \n",
      "\n",
      "          last3  first5  last5   first15    last15   first30    last30  \n",
      "0      0.333333     0.0    0.2  0.133333  0.333333  0.200000  0.333333  \n",
      "1      0.000000     0.0    0.2  0.200000  0.133333  0.266667  0.100000  \n",
      "2      0.000000     0.0    0.0  0.266667  0.133333  0.366667  0.333333  \n",
      "3      0.333333     0.0    0.4  0.133333  0.266667  0.166667  0.266667  \n",
      "4      0.000000     0.0    0.2  0.200000  0.200000  0.266667  0.233333  \n",
      "...         ...     ...    ...       ...       ...       ...       ...  \n",
      "31385  0.000000     0.0    0.2  0.066667  0.266667  0.166667  0.366667  \n",
      "31386  0.333333     0.2    0.4  0.333333  0.133333  0.300000  0.266667  \n",
      "31387  0.333333     0.0    0.2  0.133333  0.266667  0.233333  0.233333  \n",
      "31388  0.333333     0.0    0.2  0.200000  0.133333  0.133333  0.266667  \n",
      "31389  0.000000     0.4    0.2  0.333333  0.400000  0.233333  0.266667  \n",
      "\n",
      "[28956 rows x 15 columns]\n"
     ]
    }
   ],
   "source": [
    "df = match_columns(wild_type, df)"
   ]
  },
  {
   "cell_type": "code",
   "execution_count": 162,
   "id": "3569e25f",
   "metadata": {},
   "outputs": [
    {
     "ename": "AttributeError",
     "evalue": "'NoneType' object has no attribute 'head'",
     "output_type": "error",
     "traceback": [
      "\u001b[0;31m---------------------------------------------------------------------------\u001b[0m",
      "\u001b[0;31mAttributeError\u001b[0m                            Traceback (most recent call last)",
      "Cell \u001b[0;32mIn [162], line 1\u001b[0m\n\u001b[0;32m----> 1\u001b[0m \u001b[38;5;28mprint\u001b[39m(\u001b[43mdf\u001b[49m\u001b[38;5;241;43m.\u001b[39;49m\u001b[43mhead\u001b[49m())\n",
      "\u001b[0;31mAttributeError\u001b[0m: 'NoneType' object has no attribute 'head'"
     ]
    }
   ],
   "source": []
  },
  {
   "cell_type": "code",
   "execution_count": null,
   "id": "60ede8c5",
   "metadata": {},
   "outputs": [],
   "source": []
  }
 ],
 "metadata": {
  "kernelspec": {
   "display_name": "Python 3 (ipykernel)",
   "language": "python",
   "name": "python3"
  },
  "language_info": {
   "codemirror_mode": {
    "name": "ipython",
    "version": 3
   },
   "file_extension": ".py",
   "mimetype": "text/x-python",
   "name": "python",
   "nbconvert_exporter": "python",
   "pygments_lexer": "ipython3",
   "version": "3.10.6"
  }
 },
 "nbformat": 4,
 "nbformat_minor": 5
}
