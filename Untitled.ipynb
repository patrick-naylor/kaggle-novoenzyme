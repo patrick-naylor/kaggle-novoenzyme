{
 "cells": [
  {
   "cell_type": "code",
   "execution_count": 143,
   "id": "b18451c1",
   "metadata": {},
   "outputs": [],
   "source": [
    "import numpy as np\n",
    "import pandas as pd\n",
    "from difflib import SequenceMatcher\n",
    "from functools import partial"
   ]
  },
  {
   "cell_type": "code",
   "execution_count": 107,
   "id": "e4801acc",
   "metadata": {},
   "outputs": [],
   "source": [
    "df = pd.read_csv('/Users/patricknaylor/Desktop/kaggle/kaggle-NOVO/data/train.csv')\n",
    "corr = pd.read_csv('/Users/patricknaylor/Desktop/kaggle/kaggle-NOVO/data/train_updates_20220929.csv')\n",
    "corr_ids = list(corr['seq_id'])\n",
    "df = df[~df['seq_id'].isin(corr_ids)]"
   ]
  },
  {
   "cell_type": "code",
   "execution_count": 120,
   "id": "073ceccf",
   "metadata": {},
   "outputs": [
    {
     "name": "stdout",
     "output_type": "stream",
     "text": [
      "   seq_id                                   protein_sequence   pH  \\\n",
      "0       0  AAAAKAAALALLGEAPEVVDIWLPAGWRQPFRVFRLERKGDGVLVG...  7.0   \n",
      "1       1  AAADGEPLHNEEERAGAGQVGRSLPQESEEQRTGSRPRRRRDLGSR...  7.0   \n",
      "2       2  AAAFSTPRATSYRILSSAGSGSTRADAPQVRRLHTTRDLLAKDYYA...  7.0   \n",
      "3       3  AAASGLRTAIPAQPLRHLLQPAPRPCLRPFGLLSVRAGSARRSGLL...  7.0   \n",
      "4       4  AAATKSGPRRQSQGASVRTFTPFYFLVEPVDTLSVRGSSVILNCSA...  7.0   \n",
      "\n",
      "                         data_source    tm  \n",
      "0  doi.org/10.1038/s41592-020-0801-4  75.7  \n",
      "1  doi.org/10.1038/s41592-020-0801-4  50.5  \n",
      "2  doi.org/10.1038/s41592-020-0801-4  40.5  \n",
      "3  doi.org/10.1038/s41592-020-0801-4  47.2  \n",
      "4  doi.org/10.1038/s41592-020-0801-4  49.5  \n"
     ]
    }
   ],
   "source": [
    "wild_type = 'VPVNPEPDATSVENVALKTGSGDSQSDPIKADLEVKGQSALPFDVDCWAILCKGAPNVLQRVNEKTKNSNRDRSGANKGPFKDPQKWGIKALPPKNPSWSAQDFKSPEEYAFASSLQGGTNAILAPVNLASQNSQGGVLNGFYSANKVAQFDPSKPQQTKGTWFQITKFTGAAGPYCKALGSNDKSVCDKNKNIAGDWGFDPAKWAYQYDEKNNKFNYVGK'\n",
    "print(df.head())\n"
   ]
  },
  {
   "cell_type": "code",
   "execution_count": 159,
   "id": "31addc84",
   "metadata": {},
   "outputs": [],
   "source": [
    "def similar(s, c, w, b, side): \n",
    "    if side == 'start':\n",
    "        return SequenceMatcher(None, s[c][:b], w).ratio()\n",
    "    elif side == 'end':\n",
    "        return SequenceMatcher(None, s[c][-b:], w).ratio()\n",
    "    else:\n",
    "        raise ValueError('side must be `start` or `end`')\n",
    "        \n",
    "def match_columns(wild, train):\n",
    "    bounds = [1, 3, 5, 15, 30]\n",
    "    for bound in bounds:\n",
    "\n",
    "        start_wild = wild[:bound]\n",
    "        end_wild = wild[-bound:]\n",
    "        train[f'first{bound}'] = train.apply(partial(similar, c='protein_sequence', w=start_wild, b=bound, side='start'), axis=1)\n",
    "        train[f'last{bound}'] = train.apply(partial(similar, c='protein_sequence', w=start_wild, b=bound, side='end'), axis=1)\n",
    "        \n",
    "    return \n",
    "        \n",
    "        "
   ]
  },
  {
   "cell_type": "code",
   "execution_count": 160,
   "id": "58d17b7f",
   "metadata": {},
   "outputs": [],
   "source": [
    "match_columns(wild_type, df)"
   ]
  },
  {
   "cell_type": "code",
   "execution_count": 156,
   "id": "ea964d6d",
   "metadata": {},
   "outputs": [
    {
     "ename": "SyntaxError",
     "evalue": "invalid syntax (1064450704.py, line 1)",
     "output_type": "error",
     "traceback": [
      "\u001b[0;36m  Cell \u001b[0;32mIn [156], line 1\u001b[0;36m\u001b[0m\n\u001b[0;31m    g = :5\u001b[0m\n\u001b[0m        ^\u001b[0m\n\u001b[0;31mSyntaxError\u001b[0m\u001b[0;31m:\u001b[0m invalid syntax\n"
     ]
    }
   ],
   "source": []
  },
  {
   "cell_type": "code",
   "execution_count": null,
   "id": "1e4fae1e",
   "metadata": {},
   "outputs": [],
   "source": []
  }
 ],
 "metadata": {
  "kernelspec": {
   "display_name": "Python 3 (ipykernel)",
   "language": "python",
   "name": "python3"
  },
  "language_info": {
   "codemirror_mode": {
    "name": "ipython",
    "version": 3
   },
   "file_extension": ".py",
   "mimetype": "text/x-python",
   "name": "python",
   "nbconvert_exporter": "python",
   "pygments_lexer": "ipython3",
   "version": "3.10.6"
  }
 },
 "nbformat": 4,
 "nbformat_minor": 5
}
