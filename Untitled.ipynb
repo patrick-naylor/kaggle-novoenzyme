{
 "cells": [
  {
   "cell_type": "code",
   "execution_count": 143,
   "id": "0cede0a1",
   "metadata": {},
   "outputs": [],
   "source": [
    "import numpy as np\n",
    "import pandas as pd\n",
    "from difflib import SequenceMatcher\n",
    "from functools import partial"
   ]
  },
  {
   "cell_type": "code",
   "execution_count": 184,
   "id": "5b667882",
   "metadata": {},
   "outputs": [],
   "source": [
    "df = pd.read_csv('/Users/patricknaylor/Desktop/kaggle/kaggle-NOVO/data/train.csv')\n",
    "corr = pd.read_csv('/Users/patricknaylor/Desktop/kaggle/kaggle-NOVO/data/train_updates_20220929.csv')\n",
    "corr_ids = list(corr['seq_id'])\n",
    "df = df[~df['seq_id'].isin(corr_ids)]"
   ]
  },
  {
   "cell_type": "code",
   "execution_count": 190,
   "id": "2a9b2951",
   "metadata": {},
   "outputs": [
    {
     "name": "stdout",
     "output_type": "stream",
     "text": [
      "   seq_id                                   protein_sequence   pH  \\\n",
      "0       0  AAAAKAAALALLGEAPEVVDIWLPAGWRQPFRVFRLERKGDGVLVG...  7.0   \n",
      "1       1  AAADGEPLHNEEERAGAGQVGRSLPQESEEQRTGSRPRRRRDLGSR...  7.0   \n",
      "2       2  AAAFSTPRATSYRILSSAGSGSTRADAPQVRRLHTTRDLLAKDYYA...  7.0   \n",
      "3       3  AAASGLRTAIPAQPLRHLLQPAPRPCLRPFGLLSVRAGSARRSGLL...  7.0   \n",
      "4       4  AAATKSGPRRQSQGASVRTFTPFYFLVEPVDTLSVRGSSVILNCSA...  7.0   \n",
      "\n",
      "                         data_source    tm  first1  last1  first3     last3  \\\n",
      "0  doi.org/10.1038/s41592-020-0801-4  75.7     0.0    0.0     0.0  0.333333   \n",
      "1  doi.org/10.1038/s41592-020-0801-4  50.5     0.0    0.0     0.0  0.000000   \n",
      "2  doi.org/10.1038/s41592-020-0801-4  40.5     0.0    0.0     0.0  0.000000   \n",
      "3  doi.org/10.1038/s41592-020-0801-4  47.2     0.0    0.0     0.0  0.333333   \n",
      "4  doi.org/10.1038/s41592-020-0801-4  49.5     0.0    0.0     0.0  0.000000   \n",
      "\n",
      "   first5  last5   first15    last15   first30    last30  sim_ratio   seq_len  \n",
      "0     0.0    0.2  0.133333  0.333333  0.200000  0.333333   0.086253  0.038759  \n",
      "1     0.0    0.2  0.200000  0.133333  0.266667  0.100000   0.082278  0.032507  \n",
      "2     0.0    0.0  0.266667  0.133333  0.366667  0.333333   0.060721  0.056490  \n",
      "3     0.0    0.4  0.133333  0.266667  0.166667  0.266667   0.122034  0.030120  \n",
      "4     0.0    0.2  0.200000  0.200000  0.266667  0.233333   0.027009  0.164924  \n",
      "221\n"
     ]
    }
   ],
   "source": [
    "wild_type = 'VPVNPEPDATSVENVALKTGSGDSQSDPIKADLEVKGQSALPFDVDCWAILCKGAPNVLQRVNEKTKNSNRDRSGANKGPFKDPQKWGIKALPPKNPSWSAQDFKSPEEYAFASSLQGGTNAILAPVNLASQNSQGGVLNGFYSANKVAQFDPSKPQQTKGTWFQITKFTGAAGPYCKALGSNDKSVCDKNKNIAGDWGFDPAKWAYQYDEKNNKFNYVGK'\n",
    "print(df.head())\n",
    "print(len(wild_type))"
   ]
  },
  {
   "cell_type": "code",
   "execution_count": 186,
   "id": "e51228a1",
   "metadata": {},
   "outputs": [],
   "source": [
    "def similar(s, c, w, b, side=None): \n",
    "    if side == 'start':\n",
    "        return SequenceMatcher(None, s[c][:b], w).ratio()\n",
    "    elif side == 'end':\n",
    "        return SequenceMatcher(None, s[c][-b:], w).ratio()\n",
    "    elif side == None:\n",
    "        return SequenceMatcher(None, s[c][:], w).ratio()\n",
    "    else:\n",
    "        raise ValueError('side must be `start`, `end`, or None')\n",
    "        \n",
    "def match_columns(wild, train):\n",
    "    bounds = [1, 3, 5, 15, 30]\n",
    "    for bound in bounds:\n",
    "        start_wild = wild[:bound]\n",
    "        end_wild = wild[-bound:]\n",
    "        train[f'first{bound}'] = train.apply(partial(similar, c='protein_sequence', w=start_wild, b=bound, side='start'), axis=1)\n",
    "        train[f'last{bound}'] = train.apply(partial(similar, c='protein_sequence', w=start_wild, b=bound, side='end'), axis=1)\n",
    "    train['sim_ratio'] = train.apply(partial(similar, c='protein_sequence', w=start_wild, b=bound), axis=1)\n",
    "    return train\n",
    "        \n",
    "        "
   ]
  },
  {
   "cell_type": "code",
   "execution_count": 187,
   "id": "b1e5ae59",
   "metadata": {},
   "outputs": [],
   "source": [
    "df = match_columns(wild_type, df)"
   ]
  },
  {
   "cell_type": "code",
   "execution_count": 188,
   "id": "41f3fe26",
   "metadata": {},
   "outputs": [],
   "source": [
    "df['seq_len'] = df['protein_sequence'].str.len()\n",
    "df['seq_len'] = df['seq_len']/df['seq_len'].max()"
   ]
  },
  {
   "cell_type": "code",
   "execution_count": 189,
   "id": "929a4dda",
   "metadata": {},
   "outputs": [
    {
     "name": "stdout",
     "output_type": "stream",
     "text": [
      "       seq_id                                   protein_sequence   pH  \\\n",
      "0           0  AAAAKAAALALLGEAPEVVDIWLPAGWRQPFRVFRLERKGDGVLVG...  7.0   \n",
      "1           1  AAADGEPLHNEEERAGAGQVGRSLPQESEEQRTGSRPRRRRDLGSR...  7.0   \n",
      "2           2  AAAFSTPRATSYRILSSAGSGSTRADAPQVRRLHTTRDLLAKDYYA...  7.0   \n",
      "3           3  AAASGLRTAIPAQPLRHLLQPAPRPCLRPFGLLSVRAGSARRSGLL...  7.0   \n",
      "4           4  AAATKSGPRRQSQGASVRTFTPFYFLVEPVDTLSVRGSSVILNCSA...  7.0   \n",
      "...       ...                                                ...  ...   \n",
      "31385   31385  YYMYSGGGSALAAGGGGAGRKGDWNDIDSIKKKDLHHSRGDEKAQG...  7.0   \n",
      "31386   31386  YYNDQHRLSSYSVETAMFLSWERAIVKPGAMFKKAVIGFNCNVDLI...  7.0   \n",
      "31387   31387  YYQRTLGAELLYKISFGEMPKSAQDSAENCPSGMQFPDTAIAHANV...  7.0   \n",
      "31388   31388  YYSFSDNITTVFLSRQAIDDDHSLSLGTISDVVESENGVVAADDAR...  7.0   \n",
      "31389   31389  YYVPDEYWQSLEVAHKLTFGYGYLTWEWVQGIRSYVYPLLIAGLYK...  7.0   \n",
      "\n",
      "                             data_source    tm  first1  last1    first3  \\\n",
      "0      doi.org/10.1038/s41592-020-0801-4  75.7     0.0    0.0  0.000000   \n",
      "1      doi.org/10.1038/s41592-020-0801-4  50.5     0.0    0.0  0.000000   \n",
      "2      doi.org/10.1038/s41592-020-0801-4  40.5     0.0    0.0  0.000000   \n",
      "3      doi.org/10.1038/s41592-020-0801-4  47.2     0.0    0.0  0.000000   \n",
      "4      doi.org/10.1038/s41592-020-0801-4  49.5     0.0    0.0  0.000000   \n",
      "...                                  ...   ...     ...    ...       ...   \n",
      "31385  doi.org/10.1038/s41592-020-0801-4  51.8     0.0    0.0  0.000000   \n",
      "31386  doi.org/10.1038/s41592-020-0801-4  37.2     0.0    0.0  0.000000   \n",
      "31387  doi.org/10.1038/s41592-020-0801-4  64.6     0.0    0.0  0.000000   \n",
      "31388  doi.org/10.1038/s41592-020-0801-4  50.7     0.0    0.0  0.000000   \n",
      "31389  doi.org/10.1038/s41592-020-0801-4  37.6     0.0    0.0  0.333333   \n",
      "\n",
      "          last3  first5  last5   first15    last15   first30    last30  \\\n",
      "0      0.333333     0.0    0.2  0.133333  0.333333  0.200000  0.333333   \n",
      "1      0.000000     0.0    0.2  0.200000  0.133333  0.266667  0.100000   \n",
      "2      0.000000     0.0    0.0  0.266667  0.133333  0.366667  0.333333   \n",
      "3      0.333333     0.0    0.4  0.133333  0.266667  0.166667  0.266667   \n",
      "4      0.000000     0.0    0.2  0.200000  0.200000  0.266667  0.233333   \n",
      "...         ...     ...    ...       ...       ...       ...       ...   \n",
      "31385  0.000000     0.0    0.2  0.066667  0.266667  0.166667  0.366667   \n",
      "31386  0.333333     0.2    0.4  0.333333  0.133333  0.300000  0.266667   \n",
      "31387  0.333333     0.0    0.2  0.133333  0.266667  0.233333  0.233333   \n",
      "31388  0.333333     0.0    0.2  0.200000  0.133333  0.133333  0.266667   \n",
      "31389  0.000000     0.4    0.2  0.333333  0.400000  0.233333  0.266667   \n",
      "\n",
      "       sim_ratio   seq_len  \n",
      "0       0.086253  0.038759  \n",
      "1       0.082278  0.032507  \n",
      "2       0.060721  0.056490  \n",
      "3       0.122034  0.030120  \n",
      "4       0.027009  0.164924  \n",
      "...          ...       ...  \n",
      "31385   0.069085  0.062401  \n",
      "31386   0.064128  0.053308  \n",
      "31387   0.126582  0.014549  \n",
      "31388   0.083467  0.067402  \n",
      "31389   0.056437  0.061037  \n",
      "\n",
      "[28956 rows x 17 columns]\n"
     ]
    }
   ],
   "source": [
    "print(df)"
   ]
  },
  {
   "cell_type": "code",
   "execution_count": null,
   "id": "04334581",
   "metadata": {},
   "outputs": [],
   "source": []
  }
 ],
 "metadata": {
  "kernelspec": {
   "display_name": "Python 3 (ipykernel)",
   "language": "python",
   "name": "python3"
  },
  "language_info": {
   "codemirror_mode": {
    "name": "ipython",
    "version": 3
   },
   "file_extension": ".py",
   "mimetype": "text/x-python",
   "name": "python",
   "nbconvert_exporter": "python",
   "pygments_lexer": "ipython3",
   "version": "3.10.6"
  }
 },
 "nbformat": 4,
 "nbformat_minor": 5
}
