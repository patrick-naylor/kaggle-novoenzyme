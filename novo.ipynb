{
 "cells": [
  {
   "cell_type": "code",
   "execution_count": 143,
   "id": "ba2df28d",
   "metadata": {},
   "outputs": [],
   "source": [
    "import numpy as np\n",
    "import pandas as pd\n",
    "from difflib import SequenceMatcher\n",
    "from functools import partial"
   ]
  },
  {
   "cell_type": "code",
   "execution_count": 184,
   "id": "a76f8ceb",
   "metadata": {},
   "outputs": [],
   "source": [
    "df = pd.read_csv('/Users/patricknaylor/Desktop/kaggle/kaggle-NOVO/data/train.csv')\n",
    "corr = pd.read_csv('/Users/patricknaylor/Desktop/kaggle/kaggle-NOVO/data/train_updates_20220929.csv')\n",
    "corr_ids = list(corr['seq_id'])\n",
    "df = df[~df['seq_id'].isin(corr_ids)]"
   ]
  },
  {
   "cell_type": "code",
   "execution_count": 190,
   "id": "0fc08b7d",
   "metadata": {},
   "outputs": [
    {
     "name": "stdout",
     "output_type": "stream",
     "text": [
      "   seq_id                                   protein_sequence   pH  \\\n",
      "0       0  AAAAKAAALALLGEAPEVVDIWLPAGWRQPFRVFRLERKGDGVLVG...  7.0   \n",
      "1       1  AAADGEPLHNEEERAGAGQVGRSLPQESEEQRTGSRPRRRRDLGSR...  7.0   \n",
      "2       2  AAAFSTPRATSYRILSSAGSGSTRADAPQVRRLHTTRDLLAKDYYA...  7.0   \n",
      "3       3  AAASGLRTAIPAQPLRHLLQPAPRPCLRPFGLLSVRAGSARRSGLL...  7.0   \n",
      "4       4  AAATKSGPRRQSQGASVRTFTPFYFLVEPVDTLSVRGSSVILNCSA...  7.0   \n",
      "\n",
      "                         data_source    tm  first1  last1  first3     last3  \\\n",
      "0  doi.org/10.1038/s41592-020-0801-4  75.7     0.0    0.0     0.0  0.333333   \n",
      "1  doi.org/10.1038/s41592-020-0801-4  50.5     0.0    0.0     0.0  0.000000   \n",
      "2  doi.org/10.1038/s41592-020-0801-4  40.5     0.0    0.0     0.0  0.000000   \n",
      "3  doi.org/10.1038/s41592-020-0801-4  47.2     0.0    0.0     0.0  0.333333   \n",
      "4  doi.org/10.1038/s41592-020-0801-4  49.5     0.0    0.0     0.0  0.000000   \n",
      "\n",
      "   first5  last5   first15    last15   first30    last30  sim_ratio   seq_len  \n",
      "0     0.0    0.2  0.133333  0.333333  0.200000  0.333333   0.086253  0.038759  \n",
      "1     0.0    0.2  0.200000  0.133333  0.266667  0.100000   0.082278  0.032507  \n",
      "2     0.0    0.0  0.266667  0.133333  0.366667  0.333333   0.060721  0.056490  \n",
      "3     0.0    0.4  0.133333  0.266667  0.166667  0.266667   0.122034  0.030120  \n",
      "4     0.0    0.2  0.200000  0.200000  0.266667  0.233333   0.027009  0.164924  \n",
      "221\n"
     ]
    }
   ],
   "source": [
    "wild_type = 'VPVNPEPDATSVENVALKTGSGDSQSDPIKADLEVKGQSALPFDVDCWAILCKGAPNVLQRVNEKTKNSNRDRSGANKGPFKDPQKWGIKALPPKNPSWSAQDFKSPEEYAFASSLQGGTNAILAPVNLASQNSQGGVLNGFYSANKVAQFDPSKPQQTKGTWFQITKFTGAAGPYCKALGSNDKSVCDKNKNIAGDWGFDPAKWAYQYDEKNNKFNYVGK'\n",
    "print(df.head())\n",
    "print(len(wild_type))"
   ]
  },
  {
   "cell_type": "code",
   "execution_count": 186,
   "id": "fcf33f38",
   "metadata": {},
   "outputs": [],
   "source": [
    "def similar(s, c, w, b, side=None): \n",
    "    if side == 'start':\n",
    "        return SequenceMatcher(None, s[c][:b], w).ratio()\n",
    "    elif side == 'end':\n",
    "        return SequenceMatcher(None, s[c][-b:], w).ratio()\n",
    "    elif side == None:\n",
    "        return SequenceMatcher(None, s[c][:], w).ratio()\n",
    "    else:\n",
    "        raise ValueError('side must be `start`, `end`, or None')\n",
    "        \n",
    "def match_columns(wild, train):\n",
    "    bounds = [1, 3, 5, 15, 30]\n",
    "    for bound in bounds:\n",
    "        start_wild = wild[:bound]\n",
    "        end_wild = wild[-bound:]\n",
    "        train[f'first{bound}'] = train.apply(partial(similar, c='protein_sequence', w=start_wild, b=bound, side='start'), axis=1)\n",
    "        train[f'last{bound}'] = train.apply(partial(similar, c='protein_sequence', w=start_wild, b=bound, side='end'), axis=1)\n",
    "    train['sim_ratio'] = train.apply(partial(similar, c='protein_sequence', w=start_wild, b=bound), axis=1)\n",
    "    return train\n",
    "        \n",
    "        "
   ]
  },
  {
   "cell_type": "code",
   "execution_count": 187,
   "id": "d6da9d5b",
   "metadata": {},
   "outputs": [],
   "source": [
    "df = match_columns(wild_type, df)"
   ]
  },
  {
   "cell_type": "code",
   "execution_count": 188,
   "id": "ce45481d",
   "metadata": {},
   "outputs": [],
   "source": [
    "df['seq_len'] = df['protein_sequence'].str.len()\n",
    "df['seq_len'] = df['seq_len']/df['seq_len'].max()"
   ]
  },
  {
   "cell_type": "code",
   "execution_count": 193,
   "id": "fc5312fd",
   "metadata": {},
   "outputs": [
    {
     "name": "stdout",
     "output_type": "stream",
     "text": [
      "0        0.582308\n",
      "1        0.388462\n",
      "2        0.311538\n",
      "3        0.363077\n",
      "4        0.380769\n",
      "           ...   \n",
      "31385    0.398462\n",
      "31386    0.286154\n",
      "31387    0.496923\n",
      "31388    0.390000\n",
      "31389    0.289231\n",
      "Name: rel_stab, Length: 28956, dtype: float64\n"
     ]
    }
   ],
   "source": [
    "df['rel_stab'] = df['tm']/df['tm'].max()\n"
   ]
  },
  {
   "cell_type": "code",
   "execution_count": null,
   "id": "edc35749",
   "metadata": {},
   "outputs": [],
   "source": []
  }
 ],
 "metadata": {
  "kernelspec": {
   "display_name": "Python 3 (ipykernel)",
   "language": "python",
   "name": "python3"
  },
  "language_info": {
   "codemirror_mode": {
    "name": "ipython",
    "version": 3
   },
   "file_extension": ".py",
   "mimetype": "text/x-python",
   "name": "python",
   "nbconvert_exporter": "python",
   "pygments_lexer": "ipython3",
   "version": "3.10.6"
  }
 },
 "nbformat": 4,
 "nbformat_minor": 5
}
