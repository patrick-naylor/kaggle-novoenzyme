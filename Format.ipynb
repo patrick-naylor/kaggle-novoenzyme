{
 "cells": [
  {
   "cell_type": "code",
   "execution_count": 91,
   "id": "841398ad",
   "metadata": {},
   "outputs": [],
   "source": [
    "import numpy as np\n",
    "import pandas as pd\n",
    "from difflib import SequenceMatcher\n",
    "from functools import partial"
   ]
  },
  {
   "cell_type": "code",
   "execution_count": 92,
   "id": "7c30a068",
   "metadata": {},
   "outputs": [],
   "source": [
    "df = pd.read_csv('/Users/patricknaylor/Desktop/kaggle/kaggle-NOVO/data/train.csv')\n",
    "corr = pd.read_csv('/Users/patricknaylor/Desktop/kaggle/kaggle-NOVO/data/train_updates_20220929.csv')\n",
    "corr_ids = list(corr['seq_id'])\n",
    "df = df[~df['seq_id'].isin(corr_ids)]"
   ]
  },
  {
   "cell_type": "code",
   "execution_count": 93,
   "id": "ee4987cd",
   "metadata": {},
   "outputs": [
    {
     "name": "stdout",
     "output_type": "stream",
     "text": [
      "130.0\n"
     ]
    }
   ],
   "source": [
    "print(df['tm'].max())"
   ]
  },
  {
   "cell_type": "code",
   "execution_count": 94,
   "id": "ea194d31",
   "metadata": {},
   "outputs": [
    {
     "name": "stdout",
     "output_type": "stream",
     "text": [
      "   seq_id                                   protein_sequence   pH  \\\n",
      "0       0  AAAAKAAALALLGEAPEVVDIWLPAGWRQPFRVFRLERKGDGVLVG...  7.0   \n",
      "1       1  AAADGEPLHNEEERAGAGQVGRSLPQESEEQRTGSRPRRRRDLGSR...  7.0   \n",
      "2       2  AAAFSTPRATSYRILSSAGSGSTRADAPQVRRLHTTRDLLAKDYYA...  7.0   \n",
      "3       3  AAASGLRTAIPAQPLRHLLQPAPRPCLRPFGLLSVRAGSARRSGLL...  7.0   \n",
      "4       4  AAATKSGPRRQSQGASVRTFTPFYFLVEPVDTLSVRGSSVILNCSA...  7.0   \n",
      "\n",
      "                         data_source    tm  \n",
      "0  doi.org/10.1038/s41592-020-0801-4  75.7  \n",
      "1  doi.org/10.1038/s41592-020-0801-4  50.5  \n",
      "2  doi.org/10.1038/s41592-020-0801-4  40.5  \n",
      "3  doi.org/10.1038/s41592-020-0801-4  47.2  \n",
      "4  doi.org/10.1038/s41592-020-0801-4  49.5  \n"
     ]
    }
   ],
   "source": [
    "wild_type = 'VPVNPEPDATSVENVALKTGSGDSQSDPIKADLEVKGQSALPFDVDCWAILCKGAPNVLQRVNEKTKNSNRDRSGANKGPFKDPQKWGIKALPPKNPSWSAQDFKSPEEYAFASSLQGGTNAILAPVNLASQNSQGGVLNGFYSANKVAQFDPSKPQQTKGTWFQITKFTGAAGPYCKALGSNDKSVCDKNKNIAGDWGFDPAKWAYQYDEKNNKFNYVGK'\n",
    "print(df.head())\n",
    "letters = ['A', 'R', 'N', 'D', 'C', 'E', 'Q', 'G', 'H', 'I', 'L', 'K', 'M', 'F', 'P', 'S', 'T', 'W', 'Y', 'V']"
   ]
  },
  {
   "cell_type": "code",
   "execution_count": 95,
   "id": "64159d1e",
   "metadata": {},
   "outputs": [],
   "source": [
    "def similar(s, c, w, b, side=None): \n",
    "    if side == 'start':\n",
    "        return SequenceMatcher(None, s[c][:b], w).ratio()\n",
    "    elif side == 'end':\n",
    "        return SequenceMatcher(None, s[c][-b:], w).ratio()\n",
    "    elif side == None:\n",
    "        return SequenceMatcher(None, s[c][:], w).ratio()\n",
    "    else:\n",
    "        raise ValueError('side must be `start`, `end`, or None')\n",
    "        \n",
    "def match_columns(wild, train):\n",
    "    bounds = [1, 3, 5, 15, 30]\n",
    "    for bound in bounds:\n",
    "        start_wild = wild[:bound]\n",
    "        end_wild = wild[-bound:]\n",
    "        train[f'first{bound}'] = train.apply(partial(similar, c='protein_sequence', w=start_wild, b=bound, side='start'), axis=1)\n",
    "        train[f'last{bound}'] = train.apply(partial(similar, c='protein_sequence', w=start_wild, b=bound, side='end'), axis=1)\n",
    "    train['sim_ratio'] = train.apply(partial(similar, c='protein_sequence', w=start_wild, b=bound), axis=1)\n",
    "    return train\n",
    "\n",
    "def tenth_strings(s, c, num, tenth):\n",
    "    return s[c][num*s[tenth] : (num+1)*s[tenth]]\n",
    "\n",
    "def tenths_letters(train, letters):\n",
    "    col = train['protein_sequence']\n",
    "    length = len(col)\n",
    "    tenths = [int((length/25)*(x+1)) for x in range(25)]\n",
    "    tenth_list = []\n",
    "    for idx, ten in enumerate(tenths):\n",
    "        col_tenth = col[idx:ten]\n",
    "        col_dict = {}\n",
    "        for letter in col_tenth:\n",
    "            if letter in col_dict:\n",
    "                col_dict[letter] += 1\n",
    "            else:\n",
    "                col_dict[letter] = 1\n",
    "        for letter in letters:\n",
    "            if letter not in col_dict:\n",
    "                col_dict[letter] = 0\n",
    "        for key, value in col_dict.items():\n",
    "            col_dict[key] = value/(length/25)\n",
    "        tenth_list.append(col_dict)\n",
    "    labels = np.arange(0, 104, 4)\n",
    "    for idx, (t, w) in enumerate(zip(tenth_list, wild_list)):\n",
    "        for l in letters:\n",
    "            if (w[l] != 0) and (t[l] != 0):\n",
    "                train[f'{labels[idx]}-{labels[idx+1]}{l}_count'] = (t[l] - w[l])/(w[l] + t[l])\n",
    "            else: \n",
    "                train[f'{labels[idx]}-{labels[idx+1]}{l}_count'] = 0\n",
    "    return train\n",
    "        \n",
    "    \n",
    "        \n",
    "        "
   ]
  },
  {
   "cell_type": "code",
   "execution_count": 96,
   "id": "5c24e8fc",
   "metadata": {},
   "outputs": [],
   "source": [
    "df['seq_len'] = df['protein_sequence'].str.len()\n",
    "df['seq_len_norm'] = df['seq_len']/df['seq_len'].max()"
   ]
  },
  {
   "cell_type": "code",
   "execution_count": 97,
   "id": "3debf827",
   "metadata": {},
   "outputs": [],
   "source": [
    "df['len_tenth'] = df['seq_len']//25\n",
    "wild_tenth = len(wild_type)//25\n",
    "wild_tenths = []\n",
    "tenth_labels = []\n",
    "labels = np.arange(0, 25)\n",
    "for label in labels:\n",
    "    df[f'{label}_tenth_str'] = df.apply(partial(tenth_strings, c='protein_sequence', num=label, tenth='len_tenth'), axis=1)\n",
    "    tenth_labels.append(f'{label}_tenth_str')\n",
    "    wild_tenths.append(wild_type[label*wild_tenth: (label+1)*wild_tenth])\n",
    "    \n",
    "for lab, wild in zip(tenth_labels, wild_tenths):\n",
    "    df[f'{lab}_match'] = df.apply(partial(similar, c=lab, w=wild, b=0, side=None), axis=1)"
   ]
  },
  {
   "cell_type": "code",
   "execution_count": 98,
   "id": "b4d8a10d",
   "metadata": {},
   "outputs": [],
   "source": [
    "col = wild_type\n",
    "length = len(col)\n",
    "tenths = [int((length/25)*(x+1)) for x in range(25)]\n",
    "wild_list = []\n",
    "for idx, ten in enumerate(tenths):\n",
    "    col_tenth = col[idx:ten]\n",
    "    col_dict = {}\n",
    "    for letter in col_tenth:\n",
    "        if letter in col_dict:\n",
    "            col_dict[letter] += 1\n",
    "        else:\n",
    "            col_dict[letter] = 1\n",
    "    for letter in letters:\n",
    "        if letter not in col_dict:\n",
    "            col_dict[letter] = 0\n",
    "    for key, value in col_dict.items():\n",
    "        col_dict[key] = value/(length/25)\n",
    "    wild_list.append(col_dict)"
   ]
  },
  {
   "cell_type": "code",
   "execution_count": 99,
   "id": "ae465b89",
   "metadata": {},
   "outputs": [],
   "source": [
    "df = df.apply(partial(tenths_letters, letters=letters), axis=1)"
   ]
  },
  {
   "cell_type": "code",
   "execution_count": 100,
   "id": "a73f9338",
   "metadata": {},
   "outputs": [],
   "source": [
    "df = match_columns(wild_type, df)"
   ]
  },
  {
   "cell_type": "code",
   "execution_count": 101,
   "id": "d528729b",
   "metadata": {},
   "outputs": [],
   "source": [
    "df['rel_stab'] = df['tm']/df['tm'].max()"
   ]
  },
  {
   "cell_type": "code",
   "execution_count": 102,
   "id": "bdbfc06f",
   "metadata": {},
   "outputs": [],
   "source": [
    "rel_stab = df['rel_stab']"
   ]
  },
  {
   "cell_type": "code",
   "execution_count": 103,
   "id": "b4875849",
   "metadata": {},
   "outputs": [],
   "source": [
    "removals = ['seq_id', 'protein_sequence', 'pH', 'data_source', 'tm', 'seq_len', 'len_tenth', '0_tenth_str', '1_tenth_str', '2_tenth_str', '3_tenth_str', '4_tenth_str', '5_tenth_str', '6_tenth_str', '7_tenth_str', '8_tenth_str', '9_tenth_str', 'rel_stab', 'seq_len', 'seq_len_norm']\n",
    "columns = df.columns\n",
    "for col in columns:\n",
    "    if col[-3:] == 'str':\n",
    "        removals.append(col)\n",
    "df = df.drop(removals, axis=1)"
   ]
  },
  {
   "cell_type": "code",
   "execution_count": 104,
   "id": "17311c9b",
   "metadata": {},
   "outputs": [
    {
     "name": "stdout",
     "output_type": "stream",
     "text": [
      "       0_tenth_str_match  1_tenth_str_match  2_tenth_str_match  \\\n",
      "0               0.000000           0.190476           0.190476   \n",
      "1               0.210526           0.210526           0.210526   \n",
      "2               0.074074           0.148148           0.222222   \n",
      "3               0.000000           0.111111           0.111111   \n",
      "4               0.181818           0.151515           0.121212   \n",
      "...                  ...                ...                ...   \n",
      "31385           0.000000           0.068966           0.275862   \n",
      "31386           0.153846           0.230769           0.307692   \n",
      "31387           0.000000           0.307692           0.461538   \n",
      "31388           0.064516           0.387097           0.258065   \n",
      "31389           0.206897           0.275862           0.206897   \n",
      "\n",
      "       3_tenth_str_match  4_tenth_str_match  5_tenth_str_match  \\\n",
      "0               0.380952           0.285714           0.285714   \n",
      "1               0.315789           0.210526           0.210526   \n",
      "2               0.370370           0.296296           0.148148   \n",
      "3               0.222222           0.111111           0.222222   \n",
      "4               0.121212           0.121212           0.151515   \n",
      "...                  ...                ...                ...   \n",
      "31385           0.275862           0.137931           0.137931   \n",
      "31386           0.153846           0.076923           0.153846   \n",
      "31387           0.153846           0.461538           0.153846   \n",
      "31388           0.129032           0.193548           0.129032   \n",
      "31389           0.275862           0.137931           0.206897   \n",
      "\n",
      "       6_tenth_str_match  7_tenth_str_match  8_tenth_str_match  \\\n",
      "0               0.190476           0.190476           0.095238   \n",
      "1               0.210526           0.105263           0.315789   \n",
      "2               0.222222           0.222222           0.296296   \n",
      "3               0.222222           0.222222           0.333333   \n",
      "4               0.151515           0.121212           0.090909   \n",
      "...                  ...                ...                ...   \n",
      "31385           0.206897           0.068966           0.206897   \n",
      "31386           0.230769           0.153846           0.384615   \n",
      "31387           0.153846           0.000000           0.153846   \n",
      "31388           0.193548           0.129032           0.129032   \n",
      "31389           0.275862           0.275862           0.206897   \n",
      "\n",
      "       9_tenth_str_match  ...  last1    first3     last3  first5  last5  \\\n",
      "0               0.190476  ...    0.0  0.000000  0.333333     0.0    0.2   \n",
      "1               0.105263  ...    0.0  0.000000  0.000000     0.0    0.2   \n",
      "2               0.148148  ...    0.0  0.000000  0.000000     0.0    0.0   \n",
      "3               0.444444  ...    0.0  0.000000  0.333333     0.0    0.4   \n",
      "4               0.060606  ...    0.0  0.000000  0.000000     0.0    0.2   \n",
      "...                  ...  ...    ...       ...       ...     ...    ...   \n",
      "31385           0.206897  ...    0.0  0.000000  0.000000     0.0    0.2   \n",
      "31386           0.153846  ...    0.0  0.000000  0.333333     0.2    0.4   \n",
      "31387           0.461538  ...    0.0  0.000000  0.333333     0.0    0.2   \n",
      "31388           0.193548  ...    0.0  0.000000  0.333333     0.0    0.2   \n",
      "31389           0.137931  ...    0.0  0.333333  0.000000     0.4    0.2   \n",
      "\n",
      "        first15    last15   first30    last30  sim_ratio  \n",
      "0      0.133333  0.333333  0.200000  0.333333   0.086253  \n",
      "1      0.200000  0.133333  0.266667  0.100000   0.082278  \n",
      "2      0.266667  0.133333  0.366667  0.333333   0.060721  \n",
      "3      0.133333  0.266667  0.166667  0.266667   0.122034  \n",
      "4      0.200000  0.200000  0.266667  0.233333   0.027009  \n",
      "...         ...       ...       ...       ...        ...  \n",
      "31385  0.066667  0.266667  0.166667  0.366667   0.069085  \n",
      "31386  0.333333  0.133333  0.300000  0.266667   0.064128  \n",
      "31387  0.133333  0.266667  0.233333  0.233333   0.126582  \n",
      "31388  0.200000  0.133333  0.133333  0.266667   0.083467  \n",
      "31389  0.333333  0.400000  0.233333  0.266667   0.056437  \n",
      "\n",
      "[28956 rows x 536 columns]\n"
     ]
    }
   ],
   "source": [
    "print(df)"
   ]
  },
  {
   "cell_type": "code",
   "execution_count": 105,
   "id": "5bc0ea07",
   "metadata": {},
   "outputs": [],
   "source": [
    "df.to_csv('/Users/patricknaylor/Desktop/kaggle/kaggle-NOVO/data/variables_6.csv')\n",
    "rel_stab.to_csv('/Users/patricknaylor/Desktop/kaggle/kaggle-NOVO/data/target_2.csv')"
   ]
  },
  {
   "cell_type": "code",
   "execution_count": null,
   "id": "8b13eda0",
   "metadata": {},
   "outputs": [],
   "source": []
  },
  {
   "cell_type": "code",
   "execution_count": null,
   "id": "3f915118",
   "metadata": {},
   "outputs": [],
   "source": []
  },
  {
   "cell_type": "code",
   "execution_count": null,
   "id": "1a151941",
   "metadata": {},
   "outputs": [],
   "source": []
  }
 ],
 "metadata": {
  "kernelspec": {
   "display_name": "Python 3 (ipykernel)",
   "language": "python",
   "name": "python3"
  },
  "language_info": {
   "codemirror_mode": {
    "name": "ipython",
    "version": 3
   },
   "file_extension": ".py",
   "mimetype": "text/x-python",
   "name": "python",
   "nbconvert_exporter": "python",
   "pygments_lexer": "ipython3",
   "version": "3.10.6"
  }
 },
 "nbformat": 4,
 "nbformat_minor": 5
}
